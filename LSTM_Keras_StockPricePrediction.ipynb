{
 "cells": [
  {
   "cell_type": "markdown",
   "id": "96e8e63a",
   "metadata": {},
   "source": [
    "# EE-769 Term Project\n",
    "## Presenters: \n",
    "Abdul Wajed  Farhat\n",
    "    (Department of Civil Engineering)\n",
    "    22D0306@iitb.ac.in\n",
    "\n",
    "Omar Kashmar\n",
    "    (Department of Aerospace Engineering)\n",
    "    213011004@iitb.ac.in"
   ]
  },
  {
   "cell_type": "code",
   "execution_count": 1,
   "id": "f51512cb",
   "metadata": {
    "scrolled": true
   },
   "outputs": [
    {
     "name": "stderr",
     "output_type": "stream",
     "text": [
      "C:\\Users\\Abdul Wajed Farhat\\anaconda3\\lib\\site-packages\\scipy\\__init__.py:146: UserWarning: A NumPy version >=1.16.5 and <1.23.0 is required for this version of SciPy (detected version 1.24.2\n",
      "  warnings.warn(f\"A NumPy version >={np_minversion} and <{np_maxversion}\"\n"
     ]
    }
   ],
   "source": [
    "import pandas as pd\n",
    "import numpy as np\n",
    "import matplotlib.pyplot as plt\n",
    "from keras.models import Sequential\n",
    "from keras.layers import LSTM, Dense\n",
    "from tensorflow.keras.callbacks import History"
   ]
  },
  {
   "cell_type": "code",
   "execution_count": 2,
   "id": "a1d302f3",
   "metadata": {},
   "outputs": [],
   "source": [
    "# for debugging the errors:\n",
    "# In case some attributes are not showing in your notebook, please-\n",
    "# uncomment and run one of these commands:\n",
    "\n",
    "# !pip install tensorflow --upgrade\n",
    "#!pip install keras==2.10.0"
   ]
  },
  {
   "cell_type": "code",
   "execution_count": 3,
   "id": "f3f0f312",
   "metadata": {
    "scrolled": true
   },
   "outputs": [
    {
     "data": {
      "text/html": [
       "<div>\n",
       "<style scoped>\n",
       "    .dataframe tbody tr th:only-of-type {\n",
       "        vertical-align: middle;\n",
       "    }\n",
       "\n",
       "    .dataframe tbody tr th {\n",
       "        vertical-align: top;\n",
       "    }\n",
       "\n",
       "    .dataframe thead th {\n",
       "        text-align: right;\n",
       "    }\n",
       "</style>\n",
       "<table border=\"1\" class=\"dataframe\">\n",
       "  <thead>\n",
       "    <tr style=\"text-align: right;\">\n",
       "      <th></th>\n",
       "      <th>Date</th>\n",
       "      <th>Symbol</th>\n",
       "      <th>Series</th>\n",
       "      <th>Prev Close</th>\n",
       "      <th>Open</th>\n",
       "      <th>High</th>\n",
       "      <th>Low</th>\n",
       "      <th>Last</th>\n",
       "      <th>Close</th>\n",
       "      <th>VWAP</th>\n",
       "      <th>Volume</th>\n",
       "      <th>Turnover</th>\n",
       "      <th>Trades</th>\n",
       "      <th>Deliverable Volume</th>\n",
       "      <th>%Deliverble</th>\n",
       "    </tr>\n",
       "  </thead>\n",
       "  <tbody>\n",
       "    <tr>\n",
       "      <th>0</th>\n",
       "      <td>2007-11-27</td>\n",
       "      <td>MUNDRAPORT</td>\n",
       "      <td>EQ</td>\n",
       "      <td>440.00</td>\n",
       "      <td>770.00</td>\n",
       "      <td>1050.00</td>\n",
       "      <td>770.00</td>\n",
       "      <td>959.0</td>\n",
       "      <td>962.90</td>\n",
       "      <td>984.72</td>\n",
       "      <td>27294366</td>\n",
       "      <td>2.687719e+15</td>\n",
       "      <td>NaN</td>\n",
       "      <td>9859619</td>\n",
       "      <td>0.3612</td>\n",
       "    </tr>\n",
       "    <tr>\n",
       "      <th>1</th>\n",
       "      <td>2007-11-28</td>\n",
       "      <td>MUNDRAPORT</td>\n",
       "      <td>EQ</td>\n",
       "      <td>962.90</td>\n",
       "      <td>984.00</td>\n",
       "      <td>990.00</td>\n",
       "      <td>874.00</td>\n",
       "      <td>885.0</td>\n",
       "      <td>893.90</td>\n",
       "      <td>941.38</td>\n",
       "      <td>4581338</td>\n",
       "      <td>4.312765e+14</td>\n",
       "      <td>NaN</td>\n",
       "      <td>1453278</td>\n",
       "      <td>0.3172</td>\n",
       "    </tr>\n",
       "    <tr>\n",
       "      <th>2</th>\n",
       "      <td>2007-11-29</td>\n",
       "      <td>MUNDRAPORT</td>\n",
       "      <td>EQ</td>\n",
       "      <td>893.90</td>\n",
       "      <td>909.00</td>\n",
       "      <td>914.75</td>\n",
       "      <td>841.00</td>\n",
       "      <td>887.0</td>\n",
       "      <td>884.20</td>\n",
       "      <td>888.09</td>\n",
       "      <td>5124121</td>\n",
       "      <td>4.550658e+14</td>\n",
       "      <td>NaN</td>\n",
       "      <td>1069678</td>\n",
       "      <td>0.2088</td>\n",
       "    </tr>\n",
       "    <tr>\n",
       "      <th>3</th>\n",
       "      <td>2007-11-30</td>\n",
       "      <td>MUNDRAPORT</td>\n",
       "      <td>EQ</td>\n",
       "      <td>884.20</td>\n",
       "      <td>890.00</td>\n",
       "      <td>958.00</td>\n",
       "      <td>890.00</td>\n",
       "      <td>929.0</td>\n",
       "      <td>921.55</td>\n",
       "      <td>929.17</td>\n",
       "      <td>4609762</td>\n",
       "      <td>4.283257e+14</td>\n",
       "      <td>NaN</td>\n",
       "      <td>1260913</td>\n",
       "      <td>0.2735</td>\n",
       "    </tr>\n",
       "    <tr>\n",
       "      <th>4</th>\n",
       "      <td>2007-12-03</td>\n",
       "      <td>MUNDRAPORT</td>\n",
       "      <td>EQ</td>\n",
       "      <td>921.55</td>\n",
       "      <td>939.75</td>\n",
       "      <td>995.00</td>\n",
       "      <td>922.00</td>\n",
       "      <td>980.0</td>\n",
       "      <td>969.30</td>\n",
       "      <td>965.65</td>\n",
       "      <td>2977470</td>\n",
       "      <td>2.875200e+14</td>\n",
       "      <td>NaN</td>\n",
       "      <td>816123</td>\n",
       "      <td>0.2741</td>\n",
       "    </tr>\n",
       "    <tr>\n",
       "      <th>...</th>\n",
       "      <td>...</td>\n",
       "      <td>...</td>\n",
       "      <td>...</td>\n",
       "      <td>...</td>\n",
       "      <td>...</td>\n",
       "      <td>...</td>\n",
       "      <td>...</td>\n",
       "      <td>...</td>\n",
       "      <td>...</td>\n",
       "      <td>...</td>\n",
       "      <td>...</td>\n",
       "      <td>...</td>\n",
       "      <td>...</td>\n",
       "      <td>...</td>\n",
       "      <td>...</td>\n",
       "    </tr>\n",
       "    <tr>\n",
       "      <th>3317</th>\n",
       "      <td>2021-04-26</td>\n",
       "      <td>ADANIPORTS</td>\n",
       "      <td>EQ</td>\n",
       "      <td>725.35</td>\n",
       "      <td>733.00</td>\n",
       "      <td>739.65</td>\n",
       "      <td>728.90</td>\n",
       "      <td>729.2</td>\n",
       "      <td>730.75</td>\n",
       "      <td>733.25</td>\n",
       "      <td>9390549</td>\n",
       "      <td>6.885658e+14</td>\n",
       "      <td>116457.0</td>\n",
       "      <td>838079</td>\n",
       "      <td>0.0892</td>\n",
       "    </tr>\n",
       "    <tr>\n",
       "      <th>3318</th>\n",
       "      <td>2021-04-27</td>\n",
       "      <td>ADANIPORTS</td>\n",
       "      <td>EQ</td>\n",
       "      <td>730.75</td>\n",
       "      <td>735.00</td>\n",
       "      <td>757.50</td>\n",
       "      <td>727.35</td>\n",
       "      <td>748.6</td>\n",
       "      <td>749.15</td>\n",
       "      <td>747.67</td>\n",
       "      <td>20573107</td>\n",
       "      <td>1.538191e+15</td>\n",
       "      <td>236896.0</td>\n",
       "      <td>1779639</td>\n",
       "      <td>0.0865</td>\n",
       "    </tr>\n",
       "    <tr>\n",
       "      <th>3319</th>\n",
       "      <td>2021-04-28</td>\n",
       "      <td>ADANIPORTS</td>\n",
       "      <td>EQ</td>\n",
       "      <td>749.15</td>\n",
       "      <td>755.00</td>\n",
       "      <td>760.00</td>\n",
       "      <td>741.10</td>\n",
       "      <td>743.4</td>\n",
       "      <td>746.25</td>\n",
       "      <td>751.02</td>\n",
       "      <td>11156977</td>\n",
       "      <td>8.379106e+14</td>\n",
       "      <td>130847.0</td>\n",
       "      <td>1342353</td>\n",
       "      <td>0.1203</td>\n",
       "    </tr>\n",
       "    <tr>\n",
       "      <th>3320</th>\n",
       "      <td>2021-04-29</td>\n",
       "      <td>ADANIPORTS</td>\n",
       "      <td>EQ</td>\n",
       "      <td>746.25</td>\n",
       "      <td>753.20</td>\n",
       "      <td>765.85</td>\n",
       "      <td>743.40</td>\n",
       "      <td>746.4</td>\n",
       "      <td>746.75</td>\n",
       "      <td>753.06</td>\n",
       "      <td>13851910</td>\n",
       "      <td>1.043139e+15</td>\n",
       "      <td>153293.0</td>\n",
       "      <td>1304895</td>\n",
       "      <td>0.0942</td>\n",
       "    </tr>\n",
       "    <tr>\n",
       "      <th>3321</th>\n",
       "      <td>2021-04-30</td>\n",
       "      <td>ADANIPORTS</td>\n",
       "      <td>EQ</td>\n",
       "      <td>746.75</td>\n",
       "      <td>739.00</td>\n",
       "      <td>759.45</td>\n",
       "      <td>724.50</td>\n",
       "      <td>726.4</td>\n",
       "      <td>730.05</td>\n",
       "      <td>743.35</td>\n",
       "      <td>12600934</td>\n",
       "      <td>9.366911e+14</td>\n",
       "      <td>132141.0</td>\n",
       "      <td>3514692</td>\n",
       "      <td>0.2789</td>\n",
       "    </tr>\n",
       "  </tbody>\n",
       "</table>\n",
       "<p>3322 rows × 15 columns</p>\n",
       "</div>"
      ],
      "text/plain": [
       "            Date      Symbol Series  Prev Close    Open     High     Low  \\\n",
       "0     2007-11-27  MUNDRAPORT     EQ      440.00  770.00  1050.00  770.00   \n",
       "1     2007-11-28  MUNDRAPORT     EQ      962.90  984.00   990.00  874.00   \n",
       "2     2007-11-29  MUNDRAPORT     EQ      893.90  909.00   914.75  841.00   \n",
       "3     2007-11-30  MUNDRAPORT     EQ      884.20  890.00   958.00  890.00   \n",
       "4     2007-12-03  MUNDRAPORT     EQ      921.55  939.75   995.00  922.00   \n",
       "...          ...         ...    ...         ...     ...      ...     ...   \n",
       "3317  2021-04-26  ADANIPORTS     EQ      725.35  733.00   739.65  728.90   \n",
       "3318  2021-04-27  ADANIPORTS     EQ      730.75  735.00   757.50  727.35   \n",
       "3319  2021-04-28  ADANIPORTS     EQ      749.15  755.00   760.00  741.10   \n",
       "3320  2021-04-29  ADANIPORTS     EQ      746.25  753.20   765.85  743.40   \n",
       "3321  2021-04-30  ADANIPORTS     EQ      746.75  739.00   759.45  724.50   \n",
       "\n",
       "       Last   Close    VWAP    Volume      Turnover    Trades  \\\n",
       "0     959.0  962.90  984.72  27294366  2.687719e+15       NaN   \n",
       "1     885.0  893.90  941.38   4581338  4.312765e+14       NaN   \n",
       "2     887.0  884.20  888.09   5124121  4.550658e+14       NaN   \n",
       "3     929.0  921.55  929.17   4609762  4.283257e+14       NaN   \n",
       "4     980.0  969.30  965.65   2977470  2.875200e+14       NaN   \n",
       "...     ...     ...     ...       ...           ...       ...   \n",
       "3317  729.2  730.75  733.25   9390549  6.885658e+14  116457.0   \n",
       "3318  748.6  749.15  747.67  20573107  1.538191e+15  236896.0   \n",
       "3319  743.4  746.25  751.02  11156977  8.379106e+14  130847.0   \n",
       "3320  746.4  746.75  753.06  13851910  1.043139e+15  153293.0   \n",
       "3321  726.4  730.05  743.35  12600934  9.366911e+14  132141.0   \n",
       "\n",
       "      Deliverable Volume  %Deliverble  \n",
       "0                9859619       0.3612  \n",
       "1                1453278       0.3172  \n",
       "2                1069678       0.2088  \n",
       "3                1260913       0.2735  \n",
       "4                 816123       0.2741  \n",
       "...                  ...          ...  \n",
       "3317              838079       0.0892  \n",
       "3318             1779639       0.0865  \n",
       "3319             1342353       0.1203  \n",
       "3320             1304895       0.0942  \n",
       "3321             3514692       0.2789  \n",
       "\n",
       "[3322 rows x 15 columns]"
      ]
     },
     "execution_count": 3,
     "metadata": {},
     "output_type": "execute_result"
    }
   ],
   "source": [
    "data=pd.read_csv('D:\\\\ADANIPORTS.csv')\n",
    "data"
   ]
  },
  {
   "cell_type": "code",
   "execution_count": 4,
   "id": "e0d82fef",
   "metadata": {},
   "outputs": [
    {
     "data": {
      "text/plain": [
       "0      2007-11-27\n",
       "1      2007-11-28\n",
       "2      2007-11-29\n",
       "3      2007-11-30\n",
       "4      2007-12-03\n",
       "          ...    \n",
       "3317   2021-04-26\n",
       "3318   2021-04-27\n",
       "3319   2021-04-28\n",
       "3320   2021-04-29\n",
       "3321   2021-04-30\n",
       "Name: Date, Length: 3322, dtype: datetime64[ns]"
      ]
     },
     "execution_count": 4,
     "metadata": {},
     "output_type": "execute_result"
    }
   ],
   "source": [
    "Date=pd.to_datetime(data['Date'])\n",
    "Date"
   ]
  },
  {
   "cell_type": "code",
   "execution_count": 5,
   "id": "923356d0",
   "metadata": {},
   "outputs": [
    {
     "name": "stdout",
     "output_type": "stream",
     "text": [
      "(3322,)\n"
     ]
    },
    {
     "data": {
      "text/plain": [
       "Text(0.5, 1.0, 'Previous Close Time Series Data')"
      ]
     },
     "execution_count": 5,
     "metadata": {},
     "output_type": "execute_result"
    },
    {
     "data": {
      "image/png": "[encoded data removed]",
      "text/plain": [
       "<Figure size 576x432 with 1 Axes>"
      ]
     },
     "metadata": {
      "needs_background": "light"
     },
     "output_type": "display_data"
    }
   ],
   "source": [
    "plt.figure(figsize=(8,6))\n",
    "df=data['Prev Close']\n",
    "print(df.shape)\n",
    "plt.plot(Date, df)\n",
    "\n",
    "plt.xlabel('Time [Day]',fontsize=16, fontweight='bold',fontfamily='serif')\n",
    "plt.ylabel('Previous Close',fontsize=16, fontweight='bold',fontfamily='serif')\n",
    "plt.title('Previous Close Time Series Data',fontsize=16, fontweight='bold',fontfamily='serif')"
   ]
  },
  {
   "cell_type": "code",
   "execution_count": 6,
   "id": "9c4136f7",
   "metadata": {},
   "outputs": [
    {
     "data": {
      "text/plain": [
       "(3322, 1)"
      ]
     },
     "execution_count": 6,
     "metadata": {},
     "output_type": "execute_result"
    }
   ],
   "source": [
    "df=np.array(df).reshape(-1,1)\n",
    "df.shape"
   ]
  },
  {
   "cell_type": "code",
   "execution_count": 7,
   "id": "db0b74c9",
   "metadata": {},
   "outputs": [
    {
     "data": {
      "text/plain": [
       "((2492, 1), (332, 1), (498, 1))"
      ]
     },
     "execution_count": 7,
     "metadata": {},
     "output_type": "execute_result"
    }
   ],
   "source": [
    "train=df[:round(0.75*len(df))]\n",
    "val=df[round(0.75*len(df)):round(0.85*len(df))]\n",
    "test=df[round(0.85*len(df)):]\n",
    "train.shape,val.shape, test.shape"
   ]
  },
  {
   "cell_type": "code",
   "execution_count": 8,
   "id": "34f7386e",
   "metadata": {},
   "outputs": [],
   "source": [
    "from sklearn.preprocessing import MinMaxScaler\n",
    "scaler=MinMaxScaler()"
   ]
  },
  {
   "cell_type": "code",
   "execution_count": 9,
   "id": "91ba59f1",
   "metadata": {},
   "outputs": [],
   "source": [
    "# Normalizing the data by Min and Max scaler\n",
    "scaler.fit(df)\n",
    "train=scaler.transform(train)\n",
    "val=scaler.transform(val)\n",
    "test=scaler.transform(test)"
   ]
  },
  {
   "cell_type": "code",
   "execution_count": 10,
   "id": "c576ec22",
   "metadata": {},
   "outputs": [],
   "source": [
    "# For Phase space reconstruction \n",
    "\n",
    "def create_dataset(data,n_features):\n",
    "\n",
    "    X,Y=[],[]\n",
    "\n",
    "    for i in range (len(data)-n_features-1) :\n",
    "        \n",
    "        a=data[i:i+n_features,0:data.shape[1]]\n",
    "        X.append(a)\n",
    "        Y.append(data[i+n_features,0])\n",
    "        \n",
    "    return (np.array(X),np.array(Y))"
   ]
  },
  {
   "cell_type": "code",
   "execution_count": 11,
   "id": "86fa91ca",
   "metadata": {},
   "outputs": [],
   "source": [
    "x_train,y_train=create_dataset(train,1)\n",
    "x_val,y_val=create_dataset(val,1)\n",
    "x_test,y_test=create_dataset(test,1)"
   ]
  },
  {
   "cell_type": "code",
   "execution_count": 12,
   "id": "5c831ba5",
   "metadata": {},
   "outputs": [
    {
     "name": "stdout",
     "output_type": "stream",
     "text": [
      "(2490, 1, 1) (2490,)\n",
      "(330, 1, 1) (330,)\n",
      "(496, 1, 1) (496,)\n"
     ]
    }
   ],
   "source": [
    "print (x_train.shape,y_train.shape)\n",
    "print (x_val.shape,y_val.shape)\n",
    "print(x_test.shape, y_test.shape)"
   ]
  },
  {
   "cell_type": "code",
   "execution_count": 13,
   "id": "9ed67019",
   "metadata": {},
   "outputs": [],
   "source": [
    "def lstm_model(x_train,y_train,x_val,y_val,x_test,y_test,Nepochs,batchsize):\n",
    "    model=Sequential()\n",
    "    model.add(LSTM(100,activation='relu',return_sequences=True, input_shape=(x_train.shape[1],x_train.shape[2])))\n",
    "    model.add(LSTM(100,activation='relu',return_sequences=True))\n",
    "    model.add(LSTM(100))\n",
    "    model.add(Dense(1,'linear'))\n",
    "    #Compile the model\n",
    "    model.compile(optimizer='adam', loss='mean_squared_error')\n",
    "    # For getting the history of the data\n",
    "    history=History()\n",
    "    # Fit the model\n",
    "    model.fit(x_train,y_train,validation_data=(x_val,y_val),epochs=Nepochs,batch_size=batchsize,callbacks=[history])\n",
    "    # And predict for test data\n",
    "    yp=model.predict(x_test)\n",
    "    \n",
    "    ls=history.history['loss']\n",
    "    \n",
    "    print(model.summary())\n",
    "    \n",
    "    return (yp,ls)"
   ]
  },
  {
   "cell_type": "code",
   "execution_count": 14,
   "id": "1a3d7424",
   "metadata": {
    "scrolled": true
   },
   "outputs": [
    {
     "name": "stdout",
     "output_type": "stream",
     "text": [
      "Epoch 1/100\n",
      "25/25 [==============================] - 9s 50ms/step - loss: 0.0471 - val_loss: 0.0057\n",
      "Epoch 2/100\n",
      "25/25 [==============================] - 0s 12ms/step - loss: 0.0284 - val_loss: 7.7400e-04\n",
      "Epoch 3/100\n",
      "25/25 [==============================] - 0s 11ms/step - loss: 0.0195 - val_loss: 2.2583e-04\n",
      "Epoch 4/100\n",
      "25/25 [==============================] - 0s 12ms/step - loss: 0.0040 - val_loss: 8.9084e-04\n",
      "Epoch 5/100\n",
      "25/25 [==============================] - 0s 11ms/step - loss: 8.6071e-04 - val_loss: 5.4788e-04\n",
      "Epoch 6/100\n",
      "25/25 [==============================] - 0s 13ms/step - loss: 5.3725e-04 - val_loss: 8.5397e-05\n",
      "Epoch 7/100\n",
      "25/25 [==============================] - 0s 12ms/step - loss: 4.1780e-04 - val_loss: 4.1449e-05\n",
      "Epoch 8/100\n",
      "25/25 [==============================] - 0s 18ms/step - loss: 3.6508e-04 - val_loss: 5.0938e-05\n",
      "Epoch 9/100\n",
      "25/25 [==============================] - 0s 17ms/step - loss: 3.4807e-04 - val_loss: 6.0956e-05\n",
      "Epoch 10/100\n",
      "25/25 [==============================] - 0s 15ms/step - loss: 3.2369e-04 - val_loss: 4.5004e-05\n",
      "Epoch 11/100\n",
      "25/25 [==============================] - 0s 13ms/step - loss: 3.2619e-04 - val_loss: 4.4049e-05\n",
      "Epoch 12/100\n",
      "25/25 [==============================] - 0s 13ms/step - loss: 3.2065e-04 - val_loss: 5.2256e-05\n",
      "Epoch 13/100\n",
      "25/25 [==============================] - 0s 14ms/step - loss: 3.3096e-04 - val_loss: 7.3724e-05\n",
      "Epoch 14/100\n",
      "25/25 [==============================] - 0s 12ms/step - loss: 3.4920e-04 - val_loss: 6.4499e-05\n",
      "Epoch 15/100\n",
      "25/25 [==============================] - 0s 13ms/step - loss: 3.2373e-04 - val_loss: 4.7097e-05\n",
      "Epoch 16/100\n",
      "25/25 [==============================] - 0s 14ms/step - loss: 3.2025e-04 - val_loss: 4.4191e-05\n",
      "Epoch 17/100\n",
      "25/25 [==============================] - 0s 13ms/step - loss: 3.1251e-04 - val_loss: 4.3010e-05\n",
      "Epoch 18/100\n",
      "25/25 [==============================] - 0s 13ms/step - loss: 3.1347e-04 - val_loss: 4.5556e-05\n",
      "Epoch 19/100\n",
      "25/25 [==============================] - 0s 11ms/step - loss: 3.1144e-04 - val_loss: 5.1945e-05\n",
      "Epoch 20/100\n",
      "25/25 [==============================] - 0s 10ms/step - loss: 3.1987e-04 - val_loss: 4.4359e-05\n",
      "Epoch 21/100\n",
      "25/25 [==============================] - 0s 11ms/step - loss: 3.2687e-04 - val_loss: 5.3234e-05\n",
      "Epoch 22/100\n",
      "25/25 [==============================] - 0s 13ms/step - loss: 3.1310e-04 - val_loss: 4.9073e-05\n",
      "Epoch 23/100\n",
      "25/25 [==============================] - 0s 11ms/step - loss: 3.1917e-04 - val_loss: 5.7367e-05\n",
      "Epoch 24/100\n",
      "25/25 [==============================] - 0s 10ms/step - loss: 3.1927e-04 - val_loss: 5.0091e-05\n",
      "Epoch 25/100\n",
      "25/25 [==============================] - 0s 10ms/step - loss: 3.1865e-04 - val_loss: 5.6535e-05\n",
      "Epoch 26/100\n",
      "25/25 [==============================] - 0s 11ms/step - loss: 3.1685e-04 - val_loss: 5.1690e-05\n",
      "Epoch 27/100\n",
      "25/25 [==============================] - 0s 11ms/step - loss: 3.1457e-04 - val_loss: 4.2728e-05\n",
      "Epoch 28/100\n",
      "25/25 [==============================] - 0s 11ms/step - loss: 3.1416e-04 - val_loss: 4.8333e-05\n",
      "Epoch 29/100\n",
      "25/25 [==============================] - 0s 11ms/step - loss: 3.2681e-04 - val_loss: 5.9247e-05\n",
      "Epoch 30/100\n",
      "25/25 [==============================] - 0s 11ms/step - loss: 3.1392e-04 - val_loss: 4.6632e-05\n",
      "Epoch 31/100\n",
      "25/25 [==============================] - 0s 11ms/step - loss: 3.2813e-04 - val_loss: 7.2691e-05\n",
      "Epoch 32/100\n",
      "25/25 [==============================] - 0s 10ms/step - loss: 3.1044e-04 - val_loss: 6.2499e-05\n",
      "Epoch 33/100\n",
      "25/25 [==============================] - 0s 13ms/step - loss: 3.2593e-04 - val_loss: 4.7775e-05\n",
      "Epoch 34/100\n",
      "25/25 [==============================] - 0s 11ms/step - loss: 3.1882e-04 - val_loss: 5.6176e-05\n",
      "Epoch 35/100\n",
      "25/25 [==============================] - 0s 12ms/step - loss: 3.2566e-04 - val_loss: 4.2481e-05\n",
      "Epoch 36/100\n",
      "25/25 [==============================] - 0s 11ms/step - loss: 3.1817e-04 - val_loss: 5.8253e-05\n",
      "Epoch 37/100\n",
      "25/25 [==============================] - 0s 11ms/step - loss: 3.1761e-04 - val_loss: 4.3744e-05\n",
      "Epoch 38/100\n",
      "25/25 [==============================] - 0s 10ms/step - loss: 3.1112e-04 - val_loss: 8.4569e-05\n",
      "Epoch 39/100\n",
      "25/25 [==============================] - 0s 13ms/step - loss: 3.3444e-04 - val_loss: 4.2056e-05\n",
      "Epoch 40/100\n",
      "25/25 [==============================] - 0s 11ms/step - loss: 3.1917e-04 - val_loss: 5.0439e-05\n",
      "Epoch 41/100\n",
      "25/25 [==============================] - 0s 13ms/step - loss: 3.1428e-04 - val_loss: 7.4773e-05\n",
      "Epoch 42/100\n",
      "25/25 [==============================] - 0s 13ms/step - loss: 3.1138e-04 - val_loss: 5.8396e-05\n",
      "Epoch 43/100\n",
      "25/25 [==============================] - 0s 11ms/step - loss: 3.1445e-04 - val_loss: 6.0066e-05\n",
      "Epoch 44/100\n",
      "25/25 [==============================] - 0s 12ms/step - loss: 3.1902e-04 - val_loss: 7.4824e-05\n",
      "Epoch 45/100\n",
      "25/25 [==============================] - 0s 11ms/step - loss: 3.1346e-04 - val_loss: 6.6571e-05\n",
      "Epoch 46/100\n",
      "25/25 [==============================] - 0s 12ms/step - loss: 3.3379e-04 - val_loss: 4.2913e-05\n",
      "Epoch 47/100\n",
      "25/25 [==============================] - 0s 10ms/step - loss: 3.1608e-04 - val_loss: 1.0090e-04\n",
      "Epoch 48/100\n",
      "25/25 [==============================] - 0s 13ms/step - loss: 3.3247e-04 - val_loss: 4.2793e-05\n",
      "Epoch 49/100\n",
      "25/25 [==============================] - 0s 10ms/step - loss: 3.5288e-04 - val_loss: 7.8115e-05\n",
      "Epoch 50/100\n",
      "25/25 [==============================] - 0s 13ms/step - loss: 3.1225e-04 - val_loss: 4.5855e-05\n",
      "Epoch 51/100\n",
      "25/25 [==============================] - 0s 12ms/step - loss: 3.1453e-04 - val_loss: 4.1629e-05\n",
      "Epoch 52/100\n",
      "25/25 [==============================] - 0s 11ms/step - loss: 3.1150e-04 - val_loss: 5.1770e-05\n",
      "Epoch 53/100\n",
      "25/25 [==============================] - 0s 13ms/step - loss: 3.1527e-04 - val_loss: 4.5266e-05\n",
      "Epoch 54/100\n",
      "25/25 [==============================] - 0s 12ms/step - loss: 3.2069e-04 - val_loss: 4.8605e-05\n",
      "Epoch 55/100\n",
      "25/25 [==============================] - 0s 12ms/step - loss: 3.1887e-04 - val_loss: 4.5795e-05\n",
      "Epoch 56/100\n",
      "25/25 [==============================] - 0s 13ms/step - loss: 3.1989e-04 - val_loss: 4.6316e-05\n",
      "Epoch 57/100\n",
      "25/25 [==============================] - 0s 13ms/step - loss: 3.3093e-04 - val_loss: 4.8047e-05\n",
      "Epoch 58/100\n",
      "25/25 [==============================] - 0s 12ms/step - loss: 3.4515e-04 - val_loss: 9.5309e-05\n",
      "Epoch 59/100\n",
      "25/25 [==============================] - 0s 13ms/step - loss: 3.1900e-04 - val_loss: 6.1507e-05\n",
      "Epoch 60/100\n",
      "25/25 [==============================] - 0s 11ms/step - loss: 3.1326e-04 - val_loss: 4.5464e-05\n",
      "Epoch 61/100\n",
      "25/25 [==============================] - 0s 15ms/step - loss: 3.1126e-04 - val_loss: 4.2603e-05\n",
      "Epoch 62/100\n",
      "25/25 [==============================] - 0s 14ms/step - loss: 3.1916e-04 - val_loss: 4.4151e-05\n",
      "Epoch 63/100\n",
      "25/25 [==============================] - 0s 13ms/step - loss: 3.1987e-04 - val_loss: 5.8251e-05\n",
      "Epoch 64/100\n",
      "25/25 [==============================] - 0s 11ms/step - loss: 3.4157e-04 - val_loss: 7.8089e-05\n",
      "Epoch 65/100\n",
      "25/25 [==============================] - 0s 16ms/step - loss: 3.2217e-04 - val_loss: 4.3043e-05\n",
      "Epoch 66/100\n",
      "25/25 [==============================] - 0s 13ms/step - loss: 3.1274e-04 - val_loss: 5.8199e-05\n",
      "Epoch 67/100\n",
      "25/25 [==============================] - 0s 12ms/step - loss: 3.1107e-04 - val_loss: 5.8864e-05\n",
      "Epoch 68/100\n",
      "25/25 [==============================] - 0s 13ms/step - loss: 3.2294e-04 - val_loss: 6.1070e-05\n",
      "Epoch 69/100\n",
      "25/25 [==============================] - 0s 12ms/step - loss: 3.1215e-04 - val_loss: 5.1309e-05\n",
      "Epoch 70/100\n",
      "25/25 [==============================] - 0s 13ms/step - loss: 3.1299e-04 - val_loss: 4.2981e-05\n",
      "Epoch 71/100\n",
      "25/25 [==============================] - 0s 13ms/step - loss: 3.1696e-04 - val_loss: 4.3855e-05\n",
      "Epoch 72/100\n",
      "25/25 [==============================] - 0s 13ms/step - loss: 3.2669e-04 - val_loss: 6.5716e-05\n",
      "Epoch 73/100\n",
      "25/25 [==============================] - 0s 15ms/step - loss: 3.1570e-04 - val_loss: 4.2296e-05\n",
      "Epoch 74/100\n",
      "25/25 [==============================] - 0s 14ms/step - loss: 3.1959e-04 - val_loss: 4.3434e-05\n",
      "Epoch 75/100\n",
      "25/25 [==============================] - 0s 13ms/step - loss: 3.1827e-04 - val_loss: 6.4364e-05\n",
      "Epoch 76/100\n"
     ]
    },
    {
     "name": "stdout",
     "output_type": "stream",
     "text": [
      "25/25 [==============================] - 0s 13ms/step - loss: 3.1198e-04 - val_loss: 4.1198e-05\n",
      "Epoch 77/100\n",
      "25/25 [==============================] - 0s 12ms/step - loss: 3.1333e-04 - val_loss: 5.0701e-05\n",
      "Epoch 78/100\n",
      "25/25 [==============================] - 0s 12ms/step - loss: 3.1643e-04 - val_loss: 7.5539e-05\n",
      "Epoch 79/100\n",
      "25/25 [==============================] - 1s 21ms/step - loss: 3.2514e-04 - val_loss: 1.4616e-04\n",
      "Epoch 80/100\n",
      "25/25 [==============================] - 0s 15ms/step - loss: 3.4869e-04 - val_loss: 6.1030e-05\n",
      "Epoch 81/100\n",
      "25/25 [==============================] - 0s 13ms/step - loss: 3.1892e-04 - val_loss: 4.4782e-05\n",
      "Epoch 82/100\n",
      "25/25 [==============================] - 0s 13ms/step - loss: 3.2960e-04 - val_loss: 5.1724e-05\n",
      "Epoch 83/100\n",
      "25/25 [==============================] - 0s 13ms/step - loss: 3.2055e-04 - val_loss: 5.3559e-05\n",
      "Epoch 84/100\n",
      "25/25 [==============================] - 0s 13ms/step - loss: 3.1633e-04 - val_loss: 5.3384e-05\n",
      "Epoch 85/100\n",
      "25/25 [==============================] - 0s 13ms/step - loss: 3.3653e-04 - val_loss: 6.0473e-05\n",
      "Epoch 86/100\n",
      "25/25 [==============================] - 0s 13ms/step - loss: 3.2444e-04 - val_loss: 4.2375e-05\n",
      "Epoch 87/100\n",
      "25/25 [==============================] - 0s 13ms/step - loss: 3.1422e-04 - val_loss: 4.3312e-05\n",
      "Epoch 88/100\n",
      "25/25 [==============================] - 0s 13ms/step - loss: 3.1526e-04 - val_loss: 5.4256e-05\n",
      "Epoch 89/100\n",
      "25/25 [==============================] - 0s 13ms/step - loss: 3.1352e-04 - val_loss: 4.6733e-05\n",
      "Epoch 90/100\n",
      "25/25 [==============================] - 0s 13ms/step - loss: 3.1297e-04 - val_loss: 4.6679e-05\n",
      "Epoch 91/100\n",
      "25/25 [==============================] - 0s 12ms/step - loss: 3.2304e-04 - val_loss: 7.0001e-05\n",
      "Epoch 92/100\n",
      "25/25 [==============================] - 0s 13ms/step - loss: 3.2501e-04 - val_loss: 5.0186e-05\n",
      "Epoch 93/100\n",
      "25/25 [==============================] - 0s 13ms/step - loss: 3.1751e-04 - val_loss: 5.8929e-05\n",
      "Epoch 94/100\n",
      "25/25 [==============================] - 0s 13ms/step - loss: 3.1681e-04 - val_loss: 4.3896e-05\n",
      "Epoch 95/100\n",
      "25/25 [==============================] - 0s 13ms/step - loss: 3.2041e-04 - val_loss: 5.5644e-05\n",
      "Epoch 96/100\n",
      "25/25 [==============================] - 0s 13ms/step - loss: 3.2143e-04 - val_loss: 5.0483e-05\n",
      "Epoch 97/100\n",
      "25/25 [==============================] - 0s 12ms/step - loss: 3.2116e-04 - val_loss: 4.1485e-05\n",
      "Epoch 98/100\n",
      "25/25 [==============================] - 0s 16ms/step - loss: 3.1843e-04 - val_loss: 4.2558e-05\n",
      "Epoch 99/100\n",
      "25/25 [==============================] - 0s 17ms/step - loss: 3.1392e-04 - val_loss: 5.8957e-05\n",
      "Epoch 100/100\n",
      "25/25 [==============================] - 0s 16ms/step - loss: 3.1472e-04 - val_loss: 4.1562e-05\n",
      "16/16 [==============================] - 1s 3ms/step\n",
      "Model: \"sequential\"\n",
      "_________________________________________________________________\n",
      " Layer (type)                Output Shape              Param #   \n",
      "=================================================================\n",
      " lstm (LSTM)                 (None, 1, 100)            40800     \n",
      "                                                                 \n",
      " lstm_1 (LSTM)               (None, 1, 100)            80400     \n",
      "                                                                 \n",
      " lstm_2 (LSTM)               (None, 100)               80400     \n",
      "                                                                 \n",
      " dense (Dense)               (None, 1)                 101       \n",
      "                                                                 \n",
      "=================================================================\n",
      "Total params: 201,701\n",
      "Trainable params: 201,701\n",
      "Non-trainable params: 0\n",
      "_________________________________________________________________\n",
      "None\n"
     ]
    }
   ],
   "source": [
    "y_pred,loss=lstm_model(x_train,y_train,x_val,y_val,x_test,y_test,100,100)"
   ]
  },
  {
   "cell_type": "code",
   "execution_count": 15,
   "id": "77c232ac",
   "metadata": {
    "scrolled": true
   },
   "outputs": [
    {
     "name": "stdout",
     "output_type": "stream",
     "text": [
      "     Prediction  Actual\n",
      "0    389.405212  391.75\n",
      "1    391.975708  392.80\n",
      "2    393.055664  395.30\n",
      "3    395.628174  387.25\n",
      "4    387.349823  379.80\n",
      "..          ...     ...\n",
      "491  712.963379  737.80\n",
      "492  729.301697  725.35\n",
      "493  717.670959  730.75\n",
      "494  722.713745  749.15\n",
      "495  739.927124  746.25\n",
      "\n",
      "[496 rows x 2 columns]\n"
     ]
    },
    {
     "data": {
      "text/plain": [
       "[<matplotlib.lines.Line2D at 0x26b9116ddf0>]"
      ]
     },
     "execution_count": 15,
     "metadata": {},
     "output_type": "execute_result"
    },
    {
     "data": {
      "image/png": "[encoded data removed]",
      "text/plain": [
       "<Figure size 432x288 with 1 Axes>"
      ]
     },
     "metadata": {
      "needs_background": "light"
     },
     "output_type": "display_data"
    }
   ],
   "source": [
    "ytest=scaler.inverse_transform(y_test.reshape(-1,1))\n",
    "ypred=scaler.inverse_transform(y_pred.reshape(-1,1))\n",
    "print(pd.DataFrame(data={'Prediction':ypred[:,0],'Actual':ytest[:,0]}))\n",
    "plt.plot(ytest)\n",
    "plt.plot(ypred)"
   ]
  },
  {
   "cell_type": "code",
   "execution_count": 16,
   "id": "a82d958d",
   "metadata": {},
   "outputs": [
    {
     "data": {
      "text/plain": [
       "[<matplotlib.lines.Line2D at 0x26b9843ad00>]"
      ]
     },
     "execution_count": 16,
     "metadata": {},
     "output_type": "execute_result"
    },
    {
     "data": {
      "image/png": "[encoded data removed]",
      "text/plain": [
       "<Figure size 432x288 with 1 Axes>"
      ]
     },
     "metadata": {
      "needs_background": "light"
     },
     "output_type": "display_data"
    }
   ],
   "source": [
    "plt.plot(loss)"
   ]
  },
  {
   "cell_type": "code",
   "execution_count": 17,
   "id": "a88cf94a",
   "metadata": {},
   "outputs": [
    {
     "name": "stdout",
     "output_type": "stream",
     "text": [
      "Mean Squared error of model: 134.85547837340894\n",
      "R Squared error of model: 0.9905413413729964\n"
     ]
    }
   ],
   "source": [
    "from sklearn.metrics import mean_squared_error, r2_score\n",
    "print ('Mean Squared error of model:',mean_squared_error(ypred,ytest))\n",
    "print ('R Squared error of model:',r2_score(ytest,ypred))"
   ]
  },
  {
   "cell_type": "markdown",
   "id": "44a5beac",
   "metadata": {},
   "source": [
    "#### Comments:\n",
    "The model above has been trianed and predicted based on 1 time step and one dimensional data set. After 1000 epochs the model gives an accuracy of 0.99 R-Squared value. So we will look into two more different scenarios in which we will see how will the model perform when we increase the number of time steps and also for the next trial we will run the model for different number of dimensions. "
   ]
  },
  {
   "cell_type": "markdown",
   "id": "58b323bb",
   "metadata": {},
   "source": [
    "# Forecasting for higher time steps"
   ]
  },
  {
   "cell_type": "code",
   "execution_count": 18,
   "id": "c1180a03",
   "metadata": {},
   "outputs": [],
   "source": [
    "x_train,y_train=create_dataset(train,7)\n",
    "x_val,y_val=create_dataset(val,7)\n",
    "x_test,y_test=create_dataset(test,7)"
   ]
  },
  {
   "cell_type": "code",
   "execution_count": 19,
   "id": "72e930d7",
   "metadata": {},
   "outputs": [
    {
     "name": "stdout",
     "output_type": "stream",
     "text": [
      "Epoch 1/100\n",
      "25/25 [==============================] - 8s 84ms/step - loss: 0.0227 - val_loss: 4.3171e-04\n",
      "Epoch 2/100\n",
      "25/25 [==============================] - 1s 44ms/step - loss: 0.0020 - val_loss: 1.3324e-04\n",
      "Epoch 3/100\n",
      "25/25 [==============================] - 1s 57ms/step - loss: 0.0011 - val_loss: 1.4429e-04\n",
      "Epoch 4/100\n",
      "25/25 [==============================] - 1s 48ms/step - loss: 0.0011 - val_loss: 1.7236e-04\n",
      "Epoch 5/100\n",
      "25/25 [==============================] - 1s 59ms/step - loss: 0.0011 - val_loss: 2.6907e-04\n",
      "Epoch 6/100\n",
      "25/25 [==============================] - 1s 46ms/step - loss: 0.0010 - val_loss: 4.5689e-04\n",
      "Epoch 7/100\n",
      "25/25 [==============================] - 1s 39ms/step - loss: 0.0010 - val_loss: 1.6483e-04\n",
      "Epoch 8/100\n",
      "25/25 [==============================] - 1s 38ms/step - loss: 9.9547e-04 - val_loss: 1.2976e-04\n",
      "Epoch 9/100\n",
      "25/25 [==============================] - 1s 38ms/step - loss: 9.9534e-04 - val_loss: 1.3824e-04\n",
      "Epoch 10/100\n",
      "25/25 [==============================] - 1s 38ms/step - loss: 9.6374e-04 - val_loss: 1.9161e-04\n",
      "Epoch 11/100\n",
      "25/25 [==============================] - 1s 38ms/step - loss: 9.3128e-04 - val_loss: 2.1157e-04\n",
      "Epoch 12/100\n",
      "25/25 [==============================] - 1s 37ms/step - loss: 9.6537e-04 - val_loss: 5.9511e-04\n",
      "Epoch 13/100\n",
      "25/25 [==============================] - 1s 43ms/step - loss: 0.0010 - val_loss: 1.1604e-04\n",
      "Epoch 14/100\n",
      "25/25 [==============================] - 1s 51ms/step - loss: 8.5292e-04 - val_loss: 1.1025e-04\n",
      "Epoch 15/100\n",
      "25/25 [==============================] - 1s 56ms/step - loss: 8.1551e-04 - val_loss: 2.6818e-04\n",
      "Epoch 16/100\n",
      "25/25 [==============================] - 1s 44ms/step - loss: 7.7473e-04 - val_loss: 1.0970e-04\n",
      "Epoch 17/100\n",
      "25/25 [==============================] - 1s 52ms/step - loss: 7.4415e-04 - val_loss: 4.8765e-04\n",
      "Epoch 18/100\n",
      "25/25 [==============================] - 1s 45ms/step - loss: 7.7509e-04 - val_loss: 5.5234e-04\n",
      "Epoch 19/100\n",
      "25/25 [==============================] - 2s 63ms/step - loss: 6.9040e-04 - val_loss: 1.0252e-04\n",
      "Epoch 20/100\n",
      "25/25 [==============================] - 1s 43ms/step - loss: 5.7437e-04 - val_loss: 1.4663e-04\n",
      "Epoch 21/100\n",
      "25/25 [==============================] - 1s 42ms/step - loss: 6.0441e-04 - val_loss: 2.0094e-04\n",
      "Epoch 22/100\n",
      "25/25 [==============================] - 1s 42ms/step - loss: 7.7205e-04 - val_loss: 6.5587e-04\n",
      "Epoch 23/100\n",
      "25/25 [==============================] - 1s 40ms/step - loss: 6.7660e-04 - val_loss: 9.1466e-05\n",
      "Epoch 24/100\n",
      "25/25 [==============================] - 1s 40ms/step - loss: 5.9025e-04 - val_loss: 2.8631e-04\n",
      "Epoch 25/100\n",
      "25/25 [==============================] - 1s 40ms/step - loss: 5.4354e-04 - val_loss: 8.2620e-05\n",
      "Epoch 26/100\n",
      "25/25 [==============================] - 1s 40ms/step - loss: 5.4102e-04 - val_loss: 8.7221e-05\n",
      "Epoch 27/100\n",
      "25/25 [==============================] - 1s 40ms/step - loss: 4.7950e-04 - val_loss: 2.2373e-04\n",
      "Epoch 28/100\n",
      "25/25 [==============================] - 1s 40ms/step - loss: 4.5381e-04 - val_loss: 1.5285e-04\n",
      "Epoch 29/100\n",
      "25/25 [==============================] - 1s 40ms/step - loss: 4.9112e-04 - val_loss: 7.8753e-05\n",
      "Epoch 30/100\n",
      "25/25 [==============================] - 1s 40ms/step - loss: 4.8203e-04 - val_loss: 1.2696e-04\n",
      "Epoch 31/100\n",
      "25/25 [==============================] - 1s 40ms/step - loss: 5.1156e-04 - val_loss: 1.3406e-04\n",
      "Epoch 32/100\n",
      "25/25 [==============================] - 1s 40ms/step - loss: 5.1472e-04 - val_loss: 1.4129e-04\n",
      "Epoch 33/100\n",
      "25/25 [==============================] - 1s 40ms/step - loss: 4.3371e-04 - val_loss: 7.7550e-05\n",
      "Epoch 34/100\n",
      "25/25 [==============================] - 1s 40ms/step - loss: 4.1601e-04 - val_loss: 1.3147e-04\n",
      "Epoch 35/100\n",
      "25/25 [==============================] - 1s 40ms/step - loss: 4.5329e-04 - val_loss: 8.0007e-05\n",
      "Epoch 36/100\n",
      "25/25 [==============================] - 1s 41ms/step - loss: 5.0887e-04 - val_loss: 2.2959e-04\n",
      "Epoch 37/100\n",
      "25/25 [==============================] - 1s 41ms/step - loss: 4.5343e-04 - val_loss: 1.0332e-04\n",
      "Epoch 38/100\n",
      "25/25 [==============================] - 1s 41ms/step - loss: 3.9720e-04 - val_loss: 7.4503e-05\n",
      "Epoch 39/100\n",
      "25/25 [==============================] - 1s 42ms/step - loss: 3.9774e-04 - val_loss: 8.9652e-05\n",
      "Epoch 40/100\n",
      "25/25 [==============================] - 1s 43ms/step - loss: 3.9105e-04 - val_loss: 1.1056e-04\n",
      "Epoch 41/100\n",
      "25/25 [==============================] - 1s 45ms/step - loss: 4.4534e-04 - val_loss: 6.2744e-05\n",
      "Epoch 42/100\n",
      "25/25 [==============================] - 1s 43ms/step - loss: 4.0563e-04 - val_loss: 6.2920e-05\n",
      "Epoch 43/100\n",
      "25/25 [==============================] - 1s 43ms/step - loss: 3.7094e-04 - val_loss: 6.3891e-05\n",
      "Epoch 44/100\n",
      "25/25 [==============================] - 1s 42ms/step - loss: 3.5776e-04 - val_loss: 5.9080e-05\n",
      "Epoch 45/100\n",
      "25/25 [==============================] - 1s 41ms/step - loss: 4.1052e-04 - val_loss: 6.2225e-05\n",
      "Epoch 46/100\n",
      "25/25 [==============================] - 1s 45ms/step - loss: 3.6033e-04 - val_loss: 6.2437e-05\n",
      "Epoch 47/100\n",
      "25/25 [==============================] - 1s 52ms/step - loss: 3.7221e-04 - val_loss: 1.0581e-04\n",
      "Epoch 48/100\n",
      "25/25 [==============================] - 1s 47ms/step - loss: 3.5208e-04 - val_loss: 7.0820e-05\n",
      "Epoch 49/100\n",
      "25/25 [==============================] - 1s 47ms/step - loss: 3.4161e-04 - val_loss: 1.0710e-04\n",
      "Epoch 50/100\n",
      "25/25 [==============================] - 2s 74ms/step - loss: 3.6716e-04 - val_loss: 7.1256e-05\n",
      "Epoch 51/100\n",
      "25/25 [==============================] - 2s 70ms/step - loss: 3.4052e-04 - val_loss: 7.9758e-05\n",
      "Epoch 52/100\n",
      "25/25 [==============================] - 2s 67ms/step - loss: 3.1936e-04 - val_loss: 5.5610e-05\n",
      "Epoch 53/100\n",
      "25/25 [==============================] - 1s 58ms/step - loss: 3.1144e-04 - val_loss: 1.1394e-04\n",
      "Epoch 54/100\n",
      "25/25 [==============================] - 1s 45ms/step - loss: 3.4407e-04 - val_loss: 5.7972e-05\n",
      "Epoch 55/100\n",
      "25/25 [==============================] - 1s 45ms/step - loss: 3.1048e-04 - val_loss: 7.8848e-05\n",
      "Epoch 56/100\n",
      "25/25 [==============================] - 1s 45ms/step - loss: 3.7695e-04 - val_loss: 6.3232e-05\n",
      "Epoch 57/100\n",
      "25/25 [==============================] - 1s 48ms/step - loss: 3.0946e-04 - val_loss: 5.4690e-05\n",
      "Epoch 58/100\n",
      "25/25 [==============================] - 1s 45ms/step - loss: 2.8787e-04 - val_loss: 9.2863e-05\n",
      "Epoch 59/100\n",
      "25/25 [==============================] - 1s 41ms/step - loss: 3.1552e-04 - val_loss: 8.5331e-05\n",
      "Epoch 60/100\n",
      "25/25 [==============================] - 1s 46ms/step - loss: 2.8083e-04 - val_loss: 2.1934e-04\n",
      "Epoch 61/100\n",
      "25/25 [==============================] - 1s 42ms/step - loss: 3.3891e-04 - val_loss: 9.7195e-05\n",
      "Epoch 62/100\n",
      "25/25 [==============================] - 1s 46ms/step - loss: 3.2146e-04 - val_loss: 8.9906e-05\n",
      "Epoch 63/100\n",
      "25/25 [==============================] - 1s 47ms/step - loss: 3.2074e-04 - val_loss: 8.2146e-05\n",
      "Epoch 64/100\n",
      "25/25 [==============================] - 1s 50ms/step - loss: 3.3994e-04 - val_loss: 1.0650e-04\n",
      "Epoch 65/100\n",
      "25/25 [==============================] - 2s 72ms/step - loss: 3.0028e-04 - val_loss: 9.7276e-05\n",
      "Epoch 66/100\n",
      "25/25 [==============================] - 1s 56ms/step - loss: 3.6682e-04 - val_loss: 6.2108e-05\n",
      "Epoch 67/100\n",
      "25/25 [==============================] - 1s 46ms/step - loss: 2.8652e-04 - val_loss: 5.6616e-05\n",
      "Epoch 68/100\n",
      "25/25 [==============================] - 1s 47ms/step - loss: 3.0167e-04 - val_loss: 4.9173e-05\n",
      "Epoch 69/100\n",
      "25/25 [==============================] - 1s 44ms/step - loss: 2.7607e-04 - val_loss: 1.6293e-04\n",
      "Epoch 70/100\n",
      "25/25 [==============================] - 1s 41ms/step - loss: 3.8358e-04 - val_loss: 3.7080e-04\n",
      "Epoch 71/100\n",
      "25/25 [==============================] - 1s 41ms/step - loss: 3.2634e-04 - val_loss: 5.0103e-05\n",
      "Epoch 72/100\n",
      "25/25 [==============================] - 1s 47ms/step - loss: 2.8845e-04 - val_loss: 6.5059e-05\n",
      "Epoch 73/100\n",
      "25/25 [==============================] - 1s 45ms/step - loss: 2.7445e-04 - val_loss: 6.3486e-05\n",
      "Epoch 74/100\n",
      "25/25 [==============================] - 1s 40ms/step - loss: 2.5603e-04 - val_loss: 9.1895e-05\n",
      "Epoch 75/100\n",
      "25/25 [==============================] - 1s 42ms/step - loss: 2.5579e-04 - val_loss: 1.4504e-04\n",
      "Epoch 76/100\n"
     ]
    },
    {
     "name": "stdout",
     "output_type": "stream",
     "text": [
      "25/25 [==============================] - 1s 40ms/step - loss: 2.9373e-04 - val_loss: 1.3694e-04\n",
      "Epoch 77/100\n",
      "25/25 [==============================] - 1s 40ms/step - loss: 2.9312e-04 - val_loss: 4.9030e-05\n",
      "Epoch 78/100\n",
      "25/25 [==============================] - 1s 40ms/step - loss: 3.4238e-04 - val_loss: 4.7239e-05\n",
      "Epoch 79/100\n",
      "25/25 [==============================] - 1s 41ms/step - loss: 3.1835e-04 - val_loss: 1.0369e-04\n",
      "Epoch 80/100\n",
      "25/25 [==============================] - 1s 40ms/step - loss: 2.6573e-04 - val_loss: 4.7114e-05\n",
      "Epoch 81/100\n",
      "25/25 [==============================] - 1s 40ms/step - loss: 2.6294e-04 - val_loss: 5.0530e-05\n",
      "Epoch 82/100\n",
      "25/25 [==============================] - 1s 40ms/step - loss: 2.5321e-04 - val_loss: 5.8055e-05\n",
      "Epoch 83/100\n",
      "25/25 [==============================] - 1s 41ms/step - loss: 2.6173e-04 - val_loss: 6.8247e-05\n",
      "Epoch 84/100\n",
      "25/25 [==============================] - 1s 44ms/step - loss: 2.6452e-04 - val_loss: 3.1552e-04\n",
      "Epoch 85/100\n",
      "25/25 [==============================] - 1s 40ms/step - loss: 2.8502e-04 - val_loss: 5.4321e-05\n",
      "Epoch 86/100\n",
      "25/25 [==============================] - 1s 40ms/step - loss: 2.4990e-04 - val_loss: 4.7058e-05\n",
      "Epoch 87/100\n",
      "25/25 [==============================] - 1s 46ms/step - loss: 2.4992e-04 - val_loss: 4.8889e-05\n",
      "Epoch 88/100\n",
      "25/25 [==============================] - 1s 54ms/step - loss: 2.4528e-04 - val_loss: 4.5389e-05\n",
      "Epoch 89/100\n",
      "25/25 [==============================] - 1s 43ms/step - loss: 2.6232e-04 - val_loss: 7.7819e-05\n",
      "Epoch 90/100\n",
      "25/25 [==============================] - 1s 40ms/step - loss: 3.1234e-04 - val_loss: 1.0415e-04\n",
      "Epoch 91/100\n",
      "25/25 [==============================] - 1s 41ms/step - loss: 2.6844e-04 - val_loss: 1.0738e-04\n",
      "Epoch 92/100\n",
      "25/25 [==============================] - 1s 40ms/step - loss: 3.0575e-04 - val_loss: 6.1672e-05\n",
      "Epoch 93/100\n",
      "25/25 [==============================] - 1s 43ms/step - loss: 3.1336e-04 - val_loss: 6.0747e-05\n",
      "Epoch 94/100\n",
      "25/25 [==============================] - 1s 42ms/step - loss: 3.0660e-04 - val_loss: 6.9884e-05\n",
      "Epoch 95/100\n",
      "25/25 [==============================] - 1s 43ms/step - loss: 2.7951e-04 - val_loss: 8.1139e-05\n",
      "Epoch 96/100\n",
      "25/25 [==============================] - 1s 40ms/step - loss: 2.6746e-04 - val_loss: 5.3831e-05\n",
      "Epoch 97/100\n",
      "25/25 [==============================] - 1s 40ms/step - loss: 3.0222e-04 - val_loss: 8.5437e-05\n",
      "Epoch 98/100\n",
      "25/25 [==============================] - 1s 44ms/step - loss: 2.5517e-04 - val_loss: 6.0841e-05\n",
      "Epoch 99/100\n",
      "25/25 [==============================] - 1s 51ms/step - loss: 2.5792e-04 - val_loss: 6.2653e-05\n",
      "Epoch 100/100\n",
      "25/25 [==============================] - 1s 49ms/step - loss: 2.5769e-04 - val_loss: 4.7225e-05\n",
      "16/16 [==============================] - 1s 8ms/step\n",
      "Model: \"sequential_1\"\n",
      "_________________________________________________________________\n",
      " Layer (type)                Output Shape              Param #   \n",
      "=================================================================\n",
      " lstm_3 (LSTM)               (None, 7, 100)            40800     \n",
      "                                                                 \n",
      " lstm_4 (LSTM)               (None, 7, 100)            80400     \n",
      "                                                                 \n",
      " lstm_5 (LSTM)               (None, 100)               80400     \n",
      "                                                                 \n",
      " dense_1 (Dense)             (None, 1)                 101       \n",
      "                                                                 \n",
      "=================================================================\n",
      "Total params: 201,701\n",
      "Trainable params: 201,701\n",
      "Non-trainable params: 0\n",
      "_________________________________________________________________\n",
      "None\n"
     ]
    }
   ],
   "source": [
    "y_pred,loss=lstm_model(x_train,y_train,x_val,y_val,x_test,y_test,100,100)"
   ]
  },
  {
   "cell_type": "code",
   "execution_count": 20,
   "id": "36063022",
   "metadata": {},
   "outputs": [
    {
     "name": "stdout",
     "output_type": "stream",
     "text": [
      "     Prediction  Actual\n",
      "0    373.378723  369.80\n",
      "1    368.747498  363.90\n",
      "2    363.731750  372.55\n",
      "3    366.802734  364.75\n",
      "4    364.366486  370.55\n",
      "..          ...     ...\n",
      "485  704.769958  737.80\n",
      "486  720.539001  725.35\n",
      "487  711.359253  730.75\n",
      "488  716.282654  749.15\n",
      "489  733.349487  746.25\n",
      "\n",
      "[490 rows x 2 columns]\n"
     ]
    },
    {
     "data": {
      "text/plain": [
       "[<matplotlib.lines.Line2D at 0x26b9ab25130>]"
      ]
     },
     "execution_count": 20,
     "metadata": {},
     "output_type": "execute_result"
    },
    {
     "data": {
      "image/png": "[encoded data removed]",
      "text/plain": [
       "<Figure size 432x288 with 1 Axes>"
      ]
     },
     "metadata": {
      "needs_background": "light"
     },
     "output_type": "display_data"
    }
   ],
   "source": [
    "ytest=scaler.inverse_transform(y_test.reshape(-1,1))\n",
    "ypred=scaler.inverse_transform(y_pred.reshape(-1,1))\n",
    "print(pd.DataFrame(data={'Prediction':ypred[:,0],'Actual':ytest[:,0]}))\n",
    "plt.plot(ytest)\n",
    "plt.plot(ypred)"
   ]
  },
  {
   "cell_type": "code",
   "execution_count": 21,
   "id": "e59ef1b1",
   "metadata": {},
   "outputs": [
    {
     "name": "stdout",
     "output_type": "stream",
     "text": [
      "Mean Squared error of model: 169.78206498945184\n",
      "R Squared error of model: 0.9882299177700336\n"
     ]
    },
    {
     "data": {
      "text/plain": [
       "[<matplotlib.lines.Line2D at 0x26b9ab8b0d0>]"
      ]
     },
     "execution_count": 21,
     "metadata": {},
     "output_type": "execute_result"
    },
    {
     "data": {
      "image/png": "[encoded data removed]",
      "text/plain": [
       "<Figure size 432x288 with 1 Axes>"
      ]
     },
     "metadata": {
      "needs_background": "light"
     },
     "output_type": "display_data"
    }
   ],
   "source": [
    "from sklearn.metrics import mean_squared_error, r2_score\n",
    "print ('Mean Squared error of model:',mean_squared_error(ypred,ytest))\n",
    "print ('R Squared error of model:',r2_score(ytest,ypred))\n",
    "plt.plot(loss)"
   ]
  },
  {
   "cell_type": "markdown",
   "id": "feb0a242",
   "metadata": {},
   "source": [
    "# Forecasting utilizing other features in the data"
   ]
  },
  {
   "cell_type": "code",
   "execution_count": 22,
   "id": "a8ddc13f",
   "metadata": {
    "scrolled": true
   },
   "outputs": [
    {
     "data": {
      "text/plain": [
       "Date                    0\n",
       "Symbol                  0\n",
       "Series                  0\n",
       "Prev Close              0\n",
       "Open                    0\n",
       "High                    0\n",
       "Low                     0\n",
       "Last                    0\n",
       "Close                   0\n",
       "VWAP                    0\n",
       "Volume                  0\n",
       "Turnover                0\n",
       "Trades                866\n",
       "Deliverable Volume      0\n",
       "%Deliverble             0\n",
       "dtype: int64"
      ]
     },
     "execution_count": 22,
     "metadata": {},
     "output_type": "execute_result"
    }
   ],
   "source": [
    "data.isna().sum()"
   ]
  },
  {
   "cell_type": "code",
   "execution_count": 23,
   "id": "28870226",
   "metadata": {},
   "outputs": [
    {
     "data": {
      "text/plain": [
       "Prev Close    0\n",
       "Open          0\n",
       "High          0\n",
       "Low           0\n",
       "Last          0\n",
       "Close         0\n",
       "VWAP          0\n",
       "dtype: int64"
      ]
     },
     "execution_count": 23,
     "metadata": {},
     "output_type": "execute_result"
    }
   ],
   "source": [
    "#Since column Trades has huge number of NaN values cells, we will drop that column. Also the columns which we will-\n",
    "# not need for further process we can delete them as well\n",
    "newdata=data.drop(['Trades','Date','Symbol','Series','Deliverable Volume'\n",
    "                  ,'Volume','Turnover','%Deliverble'],axis=1)\n",
    "newdata.isna().sum()"
   ]
  },
  {
   "cell_type": "code",
   "execution_count": 24,
   "id": "556bac48",
   "metadata": {},
   "outputs": [],
   "source": [
    "#scalling the data\n",
    "newdata=np.array(newdata)\n",
    "from sklearn.preprocessing import StandardScaler\n",
    "scale=StandardScaler()\n",
    "scale=scale.fit(newdata)\n",
    "newdata=scale.transform(newdata)"
   ]
  },
  {
   "cell_type": "code",
   "execution_count": 25,
   "id": "05a1176b",
   "metadata": {},
   "outputs": [
    {
     "data": {
      "text/plain": [
       "((3314, 7, 7), (3314,))"
      ]
     },
     "execution_count": 25,
     "metadata": {},
     "output_type": "execute_result"
    }
   ],
   "source": [
    "x,y=create_dataset(newdata,7)\n",
    "x.shape,y.shape"
   ]
  },
  {
   "cell_type": "code",
   "execution_count": 26,
   "id": "bc385f19",
   "metadata": {},
   "outputs": [
    {
     "data": {
      "text/plain": [
       "((2486, 7, 7), (2486,), (331, 7, 7), (331,), (497, 7, 7), (497,))"
      ]
     },
     "execution_count": 26,
     "metadata": {},
     "output_type": "execute_result"
    }
   ],
   "source": [
    "#splitting the data into train, validation and test data\n",
    "x_train,y_train=x[:round(0.75*len(x))],y[:round(0.75*len(y))]\n",
    "\n",
    "x_val,y_val=x[ round(0.75*len(x)):round(0.85*len(x))],y[ round(0.75*len(y)):round(0.85*len(y))]\n",
    "\n",
    "x_test,y_test=x[ round(0.85*len(x)): ],y[ round(0.85*len(y)):]\n",
    "\n",
    "x_train.shape,y_train.shape,x_val.shape,y_val.shape,x_test.shape,y_test.shape"
   ]
  },
  {
   "cell_type": "code",
   "execution_count": 27,
   "id": "7f1e7761",
   "metadata": {
    "scrolled": true
   },
   "outputs": [
    {
     "name": "stdout",
     "output_type": "stream",
     "text": [
      "Epoch 1/100\n",
      "25/25 [==============================] - 8s 87ms/step - loss: 0.3284 - val_loss: 0.0057\n",
      "Epoch 2/100\n",
      "25/25 [==============================] - 1s 40ms/step - loss: 0.0416 - val_loss: 0.0053\n",
      "Epoch 3/100\n",
      "25/25 [==============================] - 1s 42ms/step - loss: 0.0283 - val_loss: 0.0043\n",
      "Epoch 4/100\n",
      "25/25 [==============================] - 1s 43ms/step - loss: 0.0171 - val_loss: 0.0032\n",
      "Epoch 5/100\n",
      "25/25 [==============================] - 1s 42ms/step - loss: 0.0147 - val_loss: 0.0041\n",
      "Epoch 6/100\n",
      "25/25 [==============================] - 1s 42ms/step - loss: 0.0159 - val_loss: 0.0034\n",
      "Epoch 7/100\n",
      "25/25 [==============================] - 1s 42ms/step - loss: 0.0112 - val_loss: 0.0028\n",
      "Epoch 8/100\n",
      "25/25 [==============================] - 1s 43ms/step - loss: 0.0093 - val_loss: 0.0031\n",
      "Epoch 9/100\n",
      "25/25 [==============================] - 1s 56ms/step - loss: 0.0071 - val_loss: 0.0032\n",
      "Epoch 10/100\n",
      "25/25 [==============================] - 1s 41ms/step - loss: 0.0064 - val_loss: 0.0024\n",
      "Epoch 11/100\n",
      "25/25 [==============================] - 1s 57ms/step - loss: 0.0052 - val_loss: 0.0027\n",
      "Epoch 12/100\n",
      "25/25 [==============================] - 1s 44ms/step - loss: 0.0046 - val_loss: 0.0027\n",
      "Epoch 13/100\n",
      "25/25 [==============================] - 1s 41ms/step - loss: 0.0044 - val_loss: 0.0030\n",
      "Epoch 14/100\n",
      "25/25 [==============================] - 1s 39ms/step - loss: 0.0042 - val_loss: 0.0021\n",
      "Epoch 15/100\n",
      "25/25 [==============================] - 1s 41ms/step - loss: 0.0030 - val_loss: 0.0024\n",
      "Epoch 16/100\n",
      "25/25 [==============================] - 1s 40ms/step - loss: 0.0027 - val_loss: 0.0020\n",
      "Epoch 17/100\n",
      "25/25 [==============================] - 1s 60ms/step - loss: 0.0023 - val_loss: 0.0019\n",
      "Epoch 18/100\n",
      "25/25 [==============================] - 3s 104ms/step - loss: 0.0035 - val_loss: 0.0019\n",
      "Epoch 19/100\n",
      "25/25 [==============================] - 2s 62ms/step - loss: 0.0025 - val_loss: 0.0016\n",
      "Epoch 20/100\n",
      "25/25 [==============================] - 1s 59ms/step - loss: 0.0032 - val_loss: 0.0024\n",
      "Epoch 21/100\n",
      "25/25 [==============================] - 1s 59ms/step - loss: 0.0021 - val_loss: 0.0016\n",
      "Epoch 22/100\n",
      "25/25 [==============================] - 2s 89ms/step - loss: 0.0021 - val_loss: 0.0013\n",
      "Epoch 23/100\n",
      "25/25 [==============================] - 3s 103ms/step - loss: 0.0021 - val_loss: 0.0014\n",
      "Epoch 24/100\n",
      "25/25 [==============================] - 2s 68ms/step - loss: 0.0027 - val_loss: 0.0018\n",
      "Epoch 25/100\n",
      "25/25 [==============================] - 2s 86ms/step - loss: 0.0020 - val_loss: 0.0012\n",
      "Epoch 26/100\n",
      "25/25 [==============================] - 2s 86ms/step - loss: 0.0016 - val_loss: 0.0011\n",
      "Epoch 27/100\n",
      "25/25 [==============================] - 2s 70ms/step - loss: 0.0015 - val_loss: 0.0012\n",
      "Epoch 28/100\n",
      "25/25 [==============================] - 2s 79ms/step - loss: 0.0014 - val_loss: 0.0010\n",
      "Epoch 29/100\n",
      "25/25 [==============================] - 1s 43ms/step - loss: 0.0015 - val_loss: 0.0010\n",
      "Epoch 30/100\n",
      "25/25 [==============================] - 1s 52ms/step - loss: 0.0013 - val_loss: 0.0012\n",
      "Epoch 31/100\n",
      "25/25 [==============================] - 1s 54ms/step - loss: 0.0012 - val_loss: 0.0011\n",
      "Epoch 32/100\n",
      "25/25 [==============================] - 2s 69ms/step - loss: 0.0012 - val_loss: 0.0016\n",
      "Epoch 33/100\n",
      "25/25 [==============================] - 1s 42ms/step - loss: 0.0013 - val_loss: 7.9954e-04\n",
      "Epoch 34/100\n",
      "25/25 [==============================] - 1s 41ms/step - loss: 0.0013 - val_loss: 8.5512e-04\n",
      "Epoch 35/100\n",
      "25/25 [==============================] - 1s 41ms/step - loss: 0.0021 - val_loss: 7.7681e-04\n",
      "Epoch 36/100\n",
      "25/25 [==============================] - 1s 41ms/step - loss: 0.0013 - val_loss: 7.7550e-04\n",
      "Epoch 37/100\n",
      "25/25 [==============================] - 1s 48ms/step - loss: 9.2532e-04 - val_loss: 6.5715e-04\n",
      "Epoch 38/100\n",
      "25/25 [==============================] - 1s 45ms/step - loss: 0.0011 - val_loss: 8.9027e-04\n",
      "Epoch 39/100\n",
      "25/25 [==============================] - 2s 68ms/step - loss: 9.8813e-04 - val_loss: 6.5128e-04\n",
      "Epoch 40/100\n",
      "25/25 [==============================] - 1s 41ms/step - loss: 8.9623e-04 - val_loss: 7.8825e-04\n",
      "Epoch 41/100\n",
      "25/25 [==============================] - 2s 70ms/step - loss: 9.0725e-04 - val_loss: 5.4674e-04\n",
      "Epoch 42/100\n",
      "25/25 [==============================] - 1s 41ms/step - loss: 8.6435e-04 - val_loss: 5.1347e-04\n",
      "Epoch 43/100\n",
      "25/25 [==============================] - 1s 57ms/step - loss: 8.1985e-04 - val_loss: 5.1502e-04\n",
      "Epoch 44/100\n",
      "25/25 [==============================] - 2s 72ms/step - loss: 7.1971e-04 - val_loss: 4.1584e-04\n",
      "Epoch 45/100\n",
      "25/25 [==============================] - 1s 41ms/step - loss: 5.6497e-04 - val_loss: 3.8373e-04\n",
      "Epoch 46/100\n",
      "25/25 [==============================] - 1s 41ms/step - loss: 6.6137e-04 - val_loss: 3.6088e-04\n",
      "Epoch 47/100\n",
      "25/25 [==============================] - 1s 55ms/step - loss: 6.2303e-04 - val_loss: 3.7048e-04\n",
      "Epoch 48/100\n",
      "25/25 [==============================] - 2s 73ms/step - loss: 6.3773e-04 - val_loss: 3.4298e-04\n",
      "Epoch 49/100\n",
      "25/25 [==============================] - 1s 49ms/step - loss: 8.2649e-04 - val_loss: 4.1243e-04\n",
      "Epoch 50/100\n",
      "25/25 [==============================] - 2s 74ms/step - loss: 7.1750e-04 - val_loss: 5.9875e-04\n",
      "Epoch 51/100\n",
      "25/25 [==============================] - 2s 85ms/step - loss: 7.1064e-04 - val_loss: 2.9573e-04\n",
      "Epoch 52/100\n",
      "25/25 [==============================] - 2s 78ms/step - loss: 4.0922e-04 - val_loss: 3.7669e-04\n",
      "Epoch 53/100\n",
      "25/25 [==============================] - 2s 63ms/step - loss: 4.5317e-04 - val_loss: 1.8795e-04\n",
      "Epoch 54/100\n",
      "25/25 [==============================] - 1s 50ms/step - loss: 3.3203e-04 - val_loss: 1.9608e-04\n",
      "Epoch 55/100\n",
      "25/25 [==============================] - 2s 80ms/step - loss: 2.9050e-04 - val_loss: 1.4519e-04\n",
      "Epoch 56/100\n",
      "25/25 [==============================] - 1s 53ms/step - loss: 3.0604e-04 - val_loss: 1.3351e-04\n",
      "Epoch 57/100\n",
      "25/25 [==============================] - 1s 61ms/step - loss: 3.0351e-04 - val_loss: 2.7515e-04\n",
      "Epoch 58/100\n",
      "25/25 [==============================] - 2s 76ms/step - loss: 2.8934e-04 - val_loss: 3.8265e-04\n",
      "Epoch 59/100\n",
      "25/25 [==============================] - 1s 58ms/step - loss: 8.0468e-04 - val_loss: 1.5413e-04\n",
      "Epoch 60/100\n",
      "25/25 [==============================] - 2s 62ms/step - loss: 4.7754e-04 - val_loss: 1.1830e-04\n",
      "Epoch 61/100\n",
      "25/25 [==============================] - 1s 55ms/step - loss: 3.1996e-04 - val_loss: 1.8979e-04\n",
      "Epoch 62/100\n",
      "25/25 [==============================] - 1s 41ms/step - loss: 3.9338e-04 - val_loss: 9.4998e-05\n",
      "Epoch 63/100\n",
      "25/25 [==============================] - 1s 41ms/step - loss: 3.4518e-04 - val_loss: 7.8253e-04\n",
      "Epoch 64/100\n",
      "25/25 [==============================] - 1s 43ms/step - loss: 3.2265e-04 - val_loss: 1.6119e-04\n",
      "Epoch 65/100\n",
      "25/25 [==============================] - 2s 61ms/step - loss: 2.0954e-04 - val_loss: 6.3703e-05\n",
      "Epoch 66/100\n",
      "25/25 [==============================] - 1s 44ms/step - loss: 6.3772e-04 - val_loss: 4.1284e-04\n",
      "Epoch 67/100\n",
      "25/25 [==============================] - 1s 57ms/step - loss: 4.7159e-04 - val_loss: 6.0382e-05\n",
      "Epoch 68/100\n",
      "25/25 [==============================] - 2s 75ms/step - loss: 2.0337e-04 - val_loss: 5.8026e-05\n",
      "Epoch 69/100\n",
      "25/25 [==============================] - 2s 72ms/step - loss: 1.7676e-04 - val_loss: 9.5603e-05\n",
      "Epoch 70/100\n",
      "25/25 [==============================] - 2s 74ms/step - loss: 2.4361e-04 - val_loss: 1.1827e-04\n",
      "Epoch 71/100\n",
      "25/25 [==============================] - 1s 49ms/step - loss: 1.5775e-04 - val_loss: 6.2378e-05\n",
      "Epoch 72/100\n",
      "25/25 [==============================] - 1s 46ms/step - loss: 1.4802e-04 - val_loss: 4.6008e-05\n",
      "Epoch 73/100\n",
      "25/25 [==============================] - 1s 44ms/step - loss: 1.2011e-04 - val_loss: 1.2368e-04\n",
      "Epoch 74/100\n",
      "25/25 [==============================] - 1s 41ms/step - loss: 1.4917e-04 - val_loss: 9.3404e-05\n",
      "Epoch 75/100\n",
      "25/25 [==============================] - 1s 41ms/step - loss: 1.3595e-04 - val_loss: 1.4753e-04\n",
      "Epoch 76/100\n",
      "25/25 [==============================] - 1s 50ms/step - loss: 2.2262e-04 - val_loss: 1.6361e-04\n",
      "Epoch 77/100\n",
      "25/25 [==============================] - 1s 45ms/step - loss: 2.0470e-04 - val_loss: 4.3940e-05\n",
      "Epoch 78/100\n",
      "25/25 [==============================] - 2s 62ms/step - loss: 1.6822e-04 - val_loss: 3.7215e-05\n"
     ]
    },
    {
     "name": "stdout",
     "output_type": "stream",
     "text": [
      "Epoch 79/100\n",
      "25/25 [==============================] - 1s 49ms/step - loss: 9.7918e-05 - val_loss: 4.4985e-05\n",
      "Epoch 80/100\n",
      "25/25 [==============================] - 1s 51ms/step - loss: 1.5322e-04 - val_loss: 4.0547e-05\n",
      "Epoch 81/100\n",
      "25/25 [==============================] - 1s 41ms/step - loss: 1.8203e-04 - val_loss: 6.8292e-05\n",
      "Epoch 82/100\n",
      "25/25 [==============================] - 1s 41ms/step - loss: 1.4510e-04 - val_loss: 3.5821e-05\n",
      "Epoch 83/100\n",
      "25/25 [==============================] - 1s 42ms/step - loss: 1.4115e-04 - val_loss: 7.6996e-05\n",
      "Epoch 84/100\n",
      "25/25 [==============================] - 1s 52ms/step - loss: 9.1786e-05 - val_loss: 3.7950e-05\n",
      "Epoch 85/100\n",
      "25/25 [==============================] - 1s 56ms/step - loss: 1.2473e-04 - val_loss: 1.4532e-04\n",
      "Epoch 86/100\n",
      "25/25 [==============================] - 1s 47ms/step - loss: 1.3404e-04 - val_loss: 3.5655e-05\n",
      "Epoch 87/100\n",
      "25/25 [==============================] - 1s 42ms/step - loss: 2.4846e-04 - val_loss: 8.5968e-05\n",
      "Epoch 88/100\n",
      "25/25 [==============================] - 1s 46ms/step - loss: 2.3144e-04 - val_loss: 7.1626e-05\n",
      "Epoch 89/100\n",
      "25/25 [==============================] - 2s 70ms/step - loss: 1.3234e-04 - val_loss: 9.4663e-05\n",
      "Epoch 90/100\n",
      "25/25 [==============================] - 1s 41ms/step - loss: 1.7909e-04 - val_loss: 4.8204e-05\n",
      "Epoch 91/100\n",
      "25/25 [==============================] - 1s 41ms/step - loss: 2.6606e-04 - val_loss: 7.3912e-05\n",
      "Epoch 92/100\n",
      "25/25 [==============================] - 1s 43ms/step - loss: 1.0803e-04 - val_loss: 3.5394e-05\n",
      "Epoch 93/100\n",
      "25/25 [==============================] - 2s 62ms/step - loss: 8.9860e-05 - val_loss: 4.8830e-05\n",
      "Epoch 94/100\n",
      "25/25 [==============================] - 2s 70ms/step - loss: 9.5338e-05 - val_loss: 2.9881e-05\n",
      "Epoch 95/100\n",
      "25/25 [==============================] - 1s 55ms/step - loss: 8.8537e-05 - val_loss: 3.5410e-05\n",
      "Epoch 96/100\n",
      "25/25 [==============================] - 1s 49ms/step - loss: 1.0119e-04 - val_loss: 5.6964e-05\n",
      "Epoch 97/100\n",
      "25/25 [==============================] - 1s 45ms/step - loss: 1.1207e-04 - val_loss: 3.2180e-05\n",
      "Epoch 98/100\n",
      "25/25 [==============================] - 1s 41ms/step - loss: 1.1864e-04 - val_loss: 8.8739e-05\n",
      "Epoch 99/100\n",
      "25/25 [==============================] - 1s 41ms/step - loss: 9.6409e-05 - val_loss: 5.5688e-05\n",
      "Epoch 100/100\n",
      "25/25 [==============================] - 2s 63ms/step - loss: 1.1974e-04 - val_loss: 4.7181e-05\n",
      "16/16 [==============================] - 2s 8ms/step\n",
      "Model: \"sequential_2\"\n",
      "_________________________________________________________________\n",
      " Layer (type)                Output Shape              Param #   \n",
      "=================================================================\n",
      " lstm_6 (LSTM)               (None, 7, 100)            43200     \n",
      "                                                                 \n",
      " lstm_7 (LSTM)               (None, 7, 100)            80400     \n",
      "                                                                 \n",
      " lstm_8 (LSTM)               (None, 100)               80400     \n",
      "                                                                 \n",
      " dense_2 (Dense)             (None, 1)                 101       \n",
      "                                                                 \n",
      "=================================================================\n",
      "Total params: 204,101\n",
      "Trainable params: 204,101\n",
      "Non-trainable params: 0\n",
      "_________________________________________________________________\n",
      "None\n"
     ]
    }
   ],
   "source": [
    "ypredicted,losses=lstm_model(x_train,y_train,x_val,y_val,x_test,y_test,100,100)"
   ]
  },
  {
   "cell_type": "code",
   "execution_count": 28,
   "id": "fd3b0d67",
   "metadata": {},
   "outputs": [
    {
     "name": "stdout",
     "output_type": "stream",
     "text": [
      "     Prediction  Actual\n",
      "0    388.210602  389.25\n",
      "1    390.058197  391.75\n",
      "2    390.502441  392.80\n",
      "3    394.312805  395.30\n",
      "4    387.509705  387.25\n",
      "..          ...     ...\n",
      "492  739.498718  737.80\n",
      "493  727.651611  725.35\n",
      "494  733.803345  730.75\n",
      "495  753.212708  749.15\n",
      "496  748.413574  746.25\n",
      "\n",
      "[497 rows x 2 columns]\n"
     ]
    },
    {
     "data": {
      "text/plain": [
       "<matplotlib.legend.Legend at 0x26b9115e460>"
      ]
     },
     "execution_count": 28,
     "metadata": {},
     "output_type": "execute_result"
    },
    {
     "data": {
      "image/png": "[encoded data removed]",
      "text/plain": [
       "<Figure size 576x432 with 1 Axes>"
      ]
     },
     "metadata": {
      "needs_background": "light"
     },
     "output_type": "display_data"
    }
   ],
   "source": [
    "y_test=np.repeat(y_test.reshape(-1,1),newdata.shape[1],axis=-1)\n",
    "ypredicted=np.repeat(ypredicted,newdata.shape[1],axis=-1)\n",
    "\n",
    "ytest=scale.inverse_transform(y_test)\n",
    "ypred=scale.inverse_transform(ypredicted)\n",
    "\n",
    "print(pd.DataFrame(data={'Prediction':ypred[:,0],'Actual':ytest[:,0]}))\n",
    "\n",
    "plt.figure(figsize=(8,6))\n",
    "plt.plot(ytest[:,0])\n",
    "plt.plot(ypred[:,0])\n",
    "plt.xlabel('Time [Day]',fontsize=16, fontweight='bold',fontfamily='serif')\n",
    "plt.ylabel('Previous Close',fontsize=16, fontweight='bold',fontfamily='serif')\n",
    "plt.title('Observed vs Predicted time series plot',fontsize=16, fontweight='bold',fontfamily='serif')\n",
    "plt.legend(['Observed','Predicted'])"
   ]
  },
  {
   "cell_type": "code",
   "execution_count": 29,
   "id": "c333511e",
   "metadata": {},
   "outputs": [
    {
     "data": {
      "text/plain": [
       "[<matplotlib.lines.Line2D at 0x26b9369ab20>]"
      ]
     },
     "execution_count": 29,
     "metadata": {},
     "output_type": "execute_result"
    },
    {
     "data": {
      "image/png": "[encoded data removed]",
      "text/plain": [
       "<Figure size 432x288 with 1 Axes>"
      ]
     },
     "metadata": {
      "needs_background": "light"
     },
     "output_type": "display_data"
    }
   ],
   "source": [
    "plt.plot(losses)"
   ]
  },
  {
   "cell_type": "code",
   "execution_count": 30,
   "id": "1dd61c50",
   "metadata": {},
   "outputs": [
    {
     "name": "stdout",
     "output_type": "stream",
     "text": [
      "Mean Squared error of model: 2.48380210925437\n",
      "R Squared error of model: 0.9998254460853971\n"
     ]
    }
   ],
   "source": [
    "from sklearn.metrics import mean_squared_error, r2_score\n",
    "print ('Mean Squared error of model:',mean_squared_error(ypred[:,0],ytest[:,0]))\n",
    "print ('R Squared error of model:',r2_score(ytest,ypred))"
   ]
  },
  {
   "cell_type": "code",
   "execution_count": 31,
   "id": "3fbd8d09",
   "metadata": {},
   "outputs": [
    {
     "data": {
      "text/plain": [
       "(3322, 2)"
      ]
     },
     "execution_count": 31,
     "metadata": {},
     "output_type": "execute_result"
    }
   ],
   "source": [
    "dd=np.insert(df,0,np.array(Date),axis=1)\n",
    "dd.shape"
   ]
  },
  {
   "cell_type": "code",
   "execution_count": 32,
   "id": "a03fcf63",
   "metadata": {},
   "outputs": [
    {
     "data": {
      "text/plain": [
       "[<matplotlib.lines.Line2D at 0x26b947691f0>]"
      ]
     },
     "execution_count": 32,
     "metadata": {},
     "output_type": "execute_result"
    },
    {
     "data": {
      "image/png": "[encoded data removed]",
      "text/plain": [
       "<Figure size 432x288 with 1 Axes>"
      ]
     },
     "metadata": {
      "needs_background": "light"
     },
     "output_type": "display_data"
    }
   ],
   "source": [
    "plt.plot(Date,dd[:,1])\n",
    "plt.plot(Date[-len(ypred):],ypred[:,0])"
   ]
  }
 ],
 "metadata": {
  "kernelspec": {
   "display_name": "Python 3 (ipykernel)",
   "language": "python",
   "name": "python3"
  },
  "language_info": {
   "codemirror_mode": {
    "name": "ipython",
    "version": 3
   },
   "file_extension": ".py",
   "mimetype": "text/x-python",
   "name": "python",
   "nbconvert_exporter": "python",
   "pygments_lexer": "ipython3",
   "version": "3.9.7"
  }
 },
 "nbformat": 4,
 "nbformat_minor": 5
}
