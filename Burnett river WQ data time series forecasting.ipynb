{
 "cells": [
  {
   "cell_type": "markdown",
   "id": "14a44afd",
   "metadata": {},
   "source": [
    "# EE-769 Term Project\n",
    "## Presenters: \n",
    "Abdul Wajed  Farhat\n",
    "    (Department of Civil Engineering)\n",
    "    22D0306@iitb.ac.in\n",
    "\n",
    "Omar Kashmar\n",
    "    (Department of Aerospace Engineering)\n",
    "    213011004@iitb.ac.in\n"
   ]
  },
  {
   "cell_type": "code",
   "execution_count": 1,
   "id": "47c4e4f0",
   "metadata": {},
   "outputs": [],
   "source": [
    "import pandas as pd\n",
    "import numpy as np\n",
    "import matplotlib.pyplot as plt"
   ]
  },
  {
   "cell_type": "code",
   "execution_count": 2,
   "id": "f83ab8c3",
   "metadata": {},
   "outputs": [
    {
     "data": {
      "text/html": [
       "<div>\n",
       "<style scoped>\n",
       "    .dataframe tbody tr th:only-of-type {\n",
       "        vertical-align: middle;\n",
       "    }\n",
       "\n",
       "    .dataframe tbody tr th {\n",
       "        vertical-align: top;\n",
       "    }\n",
       "\n",
       "    .dataframe thead th {\n",
       "        text-align: right;\n",
       "    }\n",
       "</style>\n",
       "<table border=\"1\" class=\"dataframe\">\n",
       "  <thead>\n",
       "    <tr style=\"text-align: right;\">\n",
       "      <th></th>\n",
       "      <th>Chloraphylla ugL</th>\n",
       "      <th>DO mg</th>\n",
       "      <th>DO Sat</th>\n",
       "      <th>EC mScm</th>\n",
       "      <th>pH</th>\n",
       "      <th>Temp degC</th>\n",
       "      <th>Turbidity NTU</th>\n",
       "    </tr>\n",
       "  </thead>\n",
       "  <tbody>\n",
       "    <tr>\n",
       "      <th>0</th>\n",
       "      <td>4.70</td>\n",
       "      <td>5.700</td>\n",
       "      <td>88.50</td>\n",
       "      <td>43.510</td>\n",
       "      <td>7.730</td>\n",
       "      <td>30.460</td>\n",
       "      <td>3.70</td>\n",
       "    </tr>\n",
       "    <tr>\n",
       "      <th>1</th>\n",
       "      <td>5.55</td>\n",
       "      <td>5.785</td>\n",
       "      <td>89.80</td>\n",
       "      <td>43.520</td>\n",
       "      <td>7.755</td>\n",
       "      <td>30.420</td>\n",
       "      <td>1.90</td>\n",
       "    </tr>\n",
       "    <tr>\n",
       "      <th>2</th>\n",
       "      <td>5.30</td>\n",
       "      <td>5.735</td>\n",
       "      <td>89.00</td>\n",
       "      <td>43.650</td>\n",
       "      <td>7.755</td>\n",
       "      <td>30.340</td>\n",
       "      <td>2.75</td>\n",
       "    </tr>\n",
       "    <tr>\n",
       "      <th>3</th>\n",
       "      <td>5.60</td>\n",
       "      <td>5.665</td>\n",
       "      <td>87.70</td>\n",
       "      <td>43.760</td>\n",
       "      <td>7.755</td>\n",
       "      <td>30.175</td>\n",
       "      <td>2.50</td>\n",
       "    </tr>\n",
       "    <tr>\n",
       "      <th>4</th>\n",
       "      <td>5.80</td>\n",
       "      <td>5.775</td>\n",
       "      <td>89.65</td>\n",
       "      <td>44.295</td>\n",
       "      <td>7.785</td>\n",
       "      <td>30.185</td>\n",
       "      <td>4.65</td>\n",
       "    </tr>\n",
       "  </tbody>\n",
       "</table>\n",
       "</div>"
      ],
      "text/plain": [
       "   Chloraphylla ugL  DO mg  DO Sat  EC mScm     pH  Temp degC  Turbidity NTU\n",
       "0              4.70  5.700   88.50   43.510  7.730     30.460           3.70\n",
       "1              5.55  5.785   89.80   43.520  7.755     30.420           1.90\n",
       "2              5.30  5.735   89.00   43.650  7.755     30.340           2.75\n",
       "3              5.60  5.665   87.70   43.760  7.755     30.175           2.50\n",
       "4              5.80  5.775   89.65   44.295  7.785     30.185           4.65"
      ]
     },
     "execution_count": 2,
     "metadata": {},
     "output_type": "execute_result"
    }
   ],
   "source": [
    "# https://www.data.qld.gov.au/dataset/burnett-river-monitoring-data-historical\n",
    "\n",
    "data=pd.read_csv(\"D:\\\\Hourly_data.csv\")\n",
    "\n",
    "data.head(5)"
   ]
  },
  {
   "cell_type": "code",
   "execution_count": 3,
   "id": "e3ba0a91",
   "metadata": {
    "scrolled": true
   },
   "outputs": [
    {
     "data": {
      "text/html": [
       "<div>\n",
       "<style scoped>\n",
       "    .dataframe tbody tr th:only-of-type {\n",
       "        vertical-align: middle;\n",
       "    }\n",
       "\n",
       "    .dataframe tbody tr th {\n",
       "        vertical-align: top;\n",
       "    }\n",
       "\n",
       "    .dataframe thead th {\n",
       "        text-align: right;\n",
       "    }\n",
       "</style>\n",
       "<table border=\"1\" class=\"dataframe\">\n",
       "  <thead>\n",
       "    <tr style=\"text-align: right;\">\n",
       "      <th></th>\n",
       "      <th>Chloraphylla ugL</th>\n",
       "      <th>DO mg</th>\n",
       "      <th>DO Sat</th>\n",
       "      <th>EC mScm</th>\n",
       "      <th>pH</th>\n",
       "      <th>Temp degC</th>\n",
       "      <th>Turbidity NTU</th>\n",
       "    </tr>\n",
       "  </thead>\n",
       "  <tbody>\n",
       "    <tr>\n",
       "      <th>count</th>\n",
       "      <td>39958.000000</td>\n",
       "      <td>39958.000000</td>\n",
       "      <td>39958.000000</td>\n",
       "      <td>39958.000000</td>\n",
       "      <td>39958.000000</td>\n",
       "      <td>39958.000000</td>\n",
       "      <td>39958.000000</td>\n",
       "    </tr>\n",
       "    <tr>\n",
       "      <th>mean</th>\n",
       "      <td>6.300544</td>\n",
       "      <td>6.648978</td>\n",
       "      <td>91.101502</td>\n",
       "      <td>37.817511</td>\n",
       "      <td>7.838370</td>\n",
       "      <td>24.367914</td>\n",
       "      <td>12.296035</td>\n",
       "    </tr>\n",
       "    <tr>\n",
       "      <th>std</th>\n",
       "      <td>4.386054</td>\n",
       "      <td>0.862679</td>\n",
       "      <td>10.987095</td>\n",
       "      <td>13.066689</td>\n",
       "      <td>0.175836</td>\n",
       "      <td>3.581589</td>\n",
       "      <td>25.350311</td>\n",
       "    </tr>\n",
       "    <tr>\n",
       "      <th>min</th>\n",
       "      <td>0.100000</td>\n",
       "      <td>3.960000</td>\n",
       "      <td>49.850000</td>\n",
       "      <td>0.087500</td>\n",
       "      <td>6.740000</td>\n",
       "      <td>16.150000</td>\n",
       "      <td>0.100000</td>\n",
       "    </tr>\n",
       "    <tr>\n",
       "      <th>25%</th>\n",
       "      <td>2.950000</td>\n",
       "      <td>6.095000</td>\n",
       "      <td>84.700000</td>\n",
       "      <td>33.970000</td>\n",
       "      <td>7.740000</td>\n",
       "      <td>20.995000</td>\n",
       "      <td>3.950000</td>\n",
       "    </tr>\n",
       "    <tr>\n",
       "      <th>50%</th>\n",
       "      <td>5.386980</td>\n",
       "      <td>6.605000</td>\n",
       "      <td>89.900000</td>\n",
       "      <td>43.510000</td>\n",
       "      <td>7.845000</td>\n",
       "      <td>24.715000</td>\n",
       "      <td>7.050000</td>\n",
       "    </tr>\n",
       "    <tr>\n",
       "      <th>75%</th>\n",
       "      <td>8.800000</td>\n",
       "      <td>7.120000</td>\n",
       "      <td>96.100000</td>\n",
       "      <td>46.695000</td>\n",
       "      <td>7.945000</td>\n",
       "      <td>27.500000</td>\n",
       "      <td>11.250000</td>\n",
       "    </tr>\n",
       "    <tr>\n",
       "      <th>max</th>\n",
       "      <td>34.800000</td>\n",
       "      <td>13.880000</td>\n",
       "      <td>183.300000</td>\n",
       "      <td>50.960000</td>\n",
       "      <td>8.575000</td>\n",
       "      <td>32.630000</td>\n",
       "      <td>497.250000</td>\n",
       "    </tr>\n",
       "  </tbody>\n",
       "</table>\n",
       "</div>"
      ],
      "text/plain": [
       "       Chloraphylla ugL         DO mg        DO Sat       EC mScm  \\\n",
       "count      39958.000000  39958.000000  39958.000000  39958.000000   \n",
       "mean           6.300544      6.648978     91.101502     37.817511   \n",
       "std            4.386054      0.862679     10.987095     13.066689   \n",
       "min            0.100000      3.960000     49.850000      0.087500   \n",
       "25%            2.950000      6.095000     84.700000     33.970000   \n",
       "50%            5.386980      6.605000     89.900000     43.510000   \n",
       "75%            8.800000      7.120000     96.100000     46.695000   \n",
       "max           34.800000     13.880000    183.300000     50.960000   \n",
       "\n",
       "                 pH     Temp degC  Turbidity NTU  \n",
       "count  39958.000000  39958.000000   39958.000000  \n",
       "mean       7.838370     24.367914      12.296035  \n",
       "std        0.175836      3.581589      25.350311  \n",
       "min        6.740000     16.150000       0.100000  \n",
       "25%        7.740000     20.995000       3.950000  \n",
       "50%        7.845000     24.715000       7.050000  \n",
       "75%        7.945000     27.500000      11.250000  \n",
       "max        8.575000     32.630000     497.250000  "
      ]
     },
     "execution_count": 3,
     "metadata": {},
     "output_type": "execute_result"
    }
   ],
   "source": [
    "data.describe()"
   ]
  },
  {
   "cell_type": "code",
   "execution_count": 4,
   "id": "0aee6f31",
   "metadata": {
    "scrolled": true
   },
   "outputs": [
    {
     "data": {
      "text/plain": [
       "Chloraphylla ugL    0\n",
       "DO mg               0\n",
       "DO Sat              0\n",
       "EC mScm             0\n",
       "pH                  0\n",
       "Temp degC           0\n",
       "Turbidity NTU       0\n",
       "dtype: int64"
      ]
     },
     "execution_count": 4,
     "metadata": {},
     "output_type": "execute_result"
    }
   ],
   "source": [
    "data.isna().sum()"
   ]
  },
  {
   "cell_type": "markdown",
   "id": "5eaac2bb",
   "metadata": {},
   "source": [
    "# Dealing with outliers"
   ]
  },
  {
   "cell_type": "code",
   "execution_count": 5,
   "id": "0446f40b",
   "metadata": {},
   "outputs": [
    {
     "data": {
      "text/plain": [
       "Text(0.5, 1.0, 'pH')"
      ]
     },
     "execution_count": 5,
     "metadata": {},
     "output_type": "execute_result"
    },
    {
     "data": {
      "image/png": "[encoded data removed]",
      "text/plain": [
       "<Figure size 864x864 with 9 Axes>"
      ]
     },
     "metadata": {
      "needs_background": "light"
     },
     "output_type": "display_data"
    }
   ],
   "source": [
    "fig, ax = plt.subplots(3,3,figsize=(12,12))\n",
    "fig.subplots_adjust(wspace=0.25, hspace=0.25)\n",
    "\n",
    "ax[0][0].boxplot(data['Chloraphylla ugL'])\n",
    "ax[0][0].set_title('Chloraphylla ugL')\n",
    "\n",
    "ax[0][1].boxplot(data['DO Sat'])\n",
    "ax[0][1].set_title('DO Sat')\n",
    "\n",
    "ax[0][2].boxplot(data['DO mg'])\n",
    "ax[0][2].set_title('DO mg')\n",
    "\n",
    "ax[1][0].boxplot(data['EC mScm'])\n",
    "ax[1][0].set_title('EC mScm')\n",
    "\n",
    "ax[1][1].boxplot(data['Temp degC'])\n",
    "ax[1][1].set_title('Temp degC')\n",
    "\n",
    "ax[1][2].boxplot(data['Turbidity NTU'])\n",
    "ax[1][2].set_title('Turbidity NTU')\n",
    "\n",
    "ax[2][0].boxplot(data['pH'])\n",
    "ax[2][0].set_title('pH')"
   ]
  },
  {
   "cell_type": "code",
   "execution_count": 6,
   "id": "ff448922",
   "metadata": {
    "scrolled": true
   },
   "outputs": [],
   "source": [
    "for i in data.columns:    \n",
    "    dt=np.array(data[i])\n",
    "    Q1=np.percentile(dt,25)\n",
    "    Q3=np.percentile(dt,75)\n",
    "    IQ=Q3-Q1\n",
    "    upper=Q3+1.5*IQ\n",
    "    lower=Q1-1.5*IQ\n",
    "\n",
    "    dt[(dt[:]>upper) | (dt[:]<lower)]=np.nan\n",
    "    data[i]=dt\n"
   ]
  },
  {
   "cell_type": "code",
   "execution_count": 7,
   "id": "7db61a38",
   "metadata": {
    "scrolled": false
   },
   "outputs": [
    {
     "data": {
      "text/plain": [
       "Chloraphylla ugL     909\n",
       "DO mg                876\n",
       "DO Sat              1506\n",
       "EC mScm             3773\n",
       "pH                  1372\n",
       "Temp degC              0\n",
       "Turbidity NTU       3165\n",
       "dtype: int64"
      ]
     },
     "execution_count": 7,
     "metadata": {},
     "output_type": "execute_result"
    }
   ],
   "source": [
    "data.isna().sum()"
   ]
  },
  {
   "cell_type": "code",
   "execution_count": 8,
   "id": "32abc04b",
   "metadata": {},
   "outputs": [
    {
     "data": {
      "text/html": [
       "<div>\n",
       "<style scoped>\n",
       "    .dataframe tbody tr th:only-of-type {\n",
       "        vertical-align: middle;\n",
       "    }\n",
       "\n",
       "    .dataframe tbody tr th {\n",
       "        vertical-align: top;\n",
       "    }\n",
       "\n",
       "    .dataframe thead th {\n",
       "        text-align: right;\n",
       "    }\n",
       "</style>\n",
       "<table border=\"1\" class=\"dataframe\">\n",
       "  <thead>\n",
       "    <tr style=\"text-align: right;\">\n",
       "      <th></th>\n",
       "      <th>Chloraphylla ugL</th>\n",
       "      <th>DO mg</th>\n",
       "      <th>DO Sat</th>\n",
       "      <th>EC mScm</th>\n",
       "      <th>pH</th>\n",
       "      <th>Temp degC</th>\n",
       "      <th>Turbidity NTU</th>\n",
       "    </tr>\n",
       "  </thead>\n",
       "  <tbody>\n",
       "    <tr>\n",
       "      <th>0</th>\n",
       "      <td>4.70</td>\n",
       "      <td>5.700</td>\n",
       "      <td>88.50</td>\n",
       "      <td>43.510</td>\n",
       "      <td>7.730</td>\n",
       "      <td>30.460</td>\n",
       "      <td>3.70</td>\n",
       "    </tr>\n",
       "    <tr>\n",
       "      <th>1</th>\n",
       "      <td>5.55</td>\n",
       "      <td>5.785</td>\n",
       "      <td>89.80</td>\n",
       "      <td>43.520</td>\n",
       "      <td>7.755</td>\n",
       "      <td>30.420</td>\n",
       "      <td>1.90</td>\n",
       "    </tr>\n",
       "    <tr>\n",
       "      <th>2</th>\n",
       "      <td>5.30</td>\n",
       "      <td>5.735</td>\n",
       "      <td>89.00</td>\n",
       "      <td>43.650</td>\n",
       "      <td>7.755</td>\n",
       "      <td>30.340</td>\n",
       "      <td>2.75</td>\n",
       "    </tr>\n",
       "    <tr>\n",
       "      <th>3</th>\n",
       "      <td>5.60</td>\n",
       "      <td>5.665</td>\n",
       "      <td>87.70</td>\n",
       "      <td>43.760</td>\n",
       "      <td>7.755</td>\n",
       "      <td>30.175</td>\n",
       "      <td>2.50</td>\n",
       "    </tr>\n",
       "    <tr>\n",
       "      <th>4</th>\n",
       "      <td>5.80</td>\n",
       "      <td>5.775</td>\n",
       "      <td>89.65</td>\n",
       "      <td>44.295</td>\n",
       "      <td>7.785</td>\n",
       "      <td>30.185</td>\n",
       "      <td>4.65</td>\n",
       "    </tr>\n",
       "    <tr>\n",
       "      <th>...</th>\n",
       "      <td>...</td>\n",
       "      <td>...</td>\n",
       "      <td>...</td>\n",
       "      <td>...</td>\n",
       "      <td>...</td>\n",
       "      <td>...</td>\n",
       "      <td>...</td>\n",
       "    </tr>\n",
       "    <tr>\n",
       "      <th>39953</th>\n",
       "      <td>10.05</td>\n",
       "      <td>7.490</td>\n",
       "      <td>NaN</td>\n",
       "      <td>48.550</td>\n",
       "      <td>7.875</td>\n",
       "      <td>27.610</td>\n",
       "      <td>8.10</td>\n",
       "    </tr>\n",
       "    <tr>\n",
       "      <th>39954</th>\n",
       "      <td>8.30</td>\n",
       "      <td>7.450</td>\n",
       "      <td>112.55</td>\n",
       "      <td>48.410</td>\n",
       "      <td>7.875</td>\n",
       "      <td>27.525</td>\n",
       "      <td>5.75</td>\n",
       "    </tr>\n",
       "    <tr>\n",
       "      <th>39955</th>\n",
       "      <td>7.30</td>\n",
       "      <td>7.450</td>\n",
       "      <td>112.65</td>\n",
       "      <td>48.660</td>\n",
       "      <td>7.900</td>\n",
       "      <td>27.525</td>\n",
       "      <td>4.55</td>\n",
       "    </tr>\n",
       "    <tr>\n",
       "      <th>39956</th>\n",
       "      <td>4.85</td>\n",
       "      <td>7.335</td>\n",
       "      <td>111.05</td>\n",
       "      <td>48.980</td>\n",
       "      <td>7.900</td>\n",
       "      <td>27.510</td>\n",
       "      <td>3.55</td>\n",
       "    </tr>\n",
       "    <tr>\n",
       "      <th>39957</th>\n",
       "      <td>3.80</td>\n",
       "      <td>7.125</td>\n",
       "      <td>107.95</td>\n",
       "      <td>49.360</td>\n",
       "      <td>7.890</td>\n",
       "      <td>27.485</td>\n",
       "      <td>3.80</td>\n",
       "    </tr>\n",
       "  </tbody>\n",
       "</table>\n",
       "<p>39958 rows × 7 columns</p>\n",
       "</div>"
      ],
      "text/plain": [
       "       Chloraphylla ugL  DO mg  DO Sat  EC mScm     pH  Temp degC  \\\n",
       "0                  4.70  5.700   88.50   43.510  7.730     30.460   \n",
       "1                  5.55  5.785   89.80   43.520  7.755     30.420   \n",
       "2                  5.30  5.735   89.00   43.650  7.755     30.340   \n",
       "3                  5.60  5.665   87.70   43.760  7.755     30.175   \n",
       "4                  5.80  5.775   89.65   44.295  7.785     30.185   \n",
       "...                 ...    ...     ...      ...    ...        ...   \n",
       "39953             10.05  7.490     NaN   48.550  7.875     27.610   \n",
       "39954              8.30  7.450  112.55   48.410  7.875     27.525   \n",
       "39955              7.30  7.450  112.65   48.660  7.900     27.525   \n",
       "39956              4.85  7.335  111.05   48.980  7.900     27.510   \n",
       "39957              3.80  7.125  107.95   49.360  7.890     27.485   \n",
       "\n",
       "       Turbidity NTU  \n",
       "0               3.70  \n",
       "1               1.90  \n",
       "2               2.75  \n",
       "3               2.50  \n",
       "4               4.65  \n",
       "...              ...  \n",
       "39953           8.10  \n",
       "39954           5.75  \n",
       "39955           4.55  \n",
       "39956           3.55  \n",
       "39957           3.80  \n",
       "\n",
       "[39958 rows x 7 columns]"
      ]
     },
     "execution_count": 8,
     "metadata": {},
     "output_type": "execute_result"
    }
   ],
   "source": [
    "data"
   ]
  },
  {
   "cell_type": "code",
   "execution_count": 9,
   "id": "5151a1d8",
   "metadata": {},
   "outputs": [
    {
     "data": {
      "text/plain": [
       "Chloraphylla ugL    0\n",
       "DO mg               0\n",
       "DO Sat              0\n",
       "EC mScm             0\n",
       "pH                  0\n",
       "Temp degC           0\n",
       "Turbidity NTU       0\n",
       "dtype: int64"
      ]
     },
     "execution_count": 9,
     "metadata": {},
     "output_type": "execute_result"
    }
   ],
   "source": [
    "# Filling the outliers using interpolation method\n",
    "data=data.interpolate(method='linear', axis=0)\n",
    "data.isna().sum()"
   ]
  },
  {
   "cell_type": "code",
   "execution_count": 11,
   "id": "70aa3daa",
   "metadata": {},
   "outputs": [
    {
     "data": {
      "text/plain": [
       "Text(0.5, 1.0, 'pH')"
      ]
     },
     "execution_count": 11,
     "metadata": {},
     "output_type": "execute_result"
    },
    {
     "data": {
      "image/png": "[encoded data removed]",
      "text/plain": [
       "<Figure size 864x864 with 9 Axes>"
      ]
     },
     "metadata": {
      "needs_background": "light"
     },
     "output_type": "display_data"
    }
   ],
   "source": [
    "fig, ax = plt.subplots(3,3,figsize=(12,12))\n",
    "fig.subplots_adjust(wspace=0.25, hspace=0.25)\n",
    "\n",
    "ax[0][0].boxplot(data['Chloraphylla ugL'])\n",
    "ax[0][0].set_title('Chloraphylla ugL')\n",
    "\n",
    "ax[0][1].boxplot(data['DO Sat'])\n",
    "ax[0][1].set_title('DO Sat')\n",
    "\n",
    "ax[0][2].boxplot(data['DO mg'])\n",
    "ax[0][2].set_title('DO mg')\n",
    "\n",
    "ax[1][0].boxplot(data['EC mScm'])\n",
    "ax[1][0].set_title('EC mScm')\n",
    "\n",
    "ax[1][1].boxplot(data['Temp degC'])\n",
    "ax[1][1].set_title('Temp degC')\n",
    "\n",
    "ax[1][2].boxplot(data['Turbidity NTU'])\n",
    "ax[1][2].set_title('Turbidity NTU')\n",
    "\n",
    "ax[2][0].boxplot(data['pH'])\n",
    "ax[2][0].set_title('pH')"
   ]
  },
  {
   "cell_type": "code",
   "execution_count": 15,
   "id": "829469d5",
   "metadata": {},
   "outputs": [
    {
     "data": {
      "text/plain": [
       "Text(0.5, 1.0, 'Water Quality Data')"
      ]
     },
     "execution_count": 15,
     "metadata": {},
     "output_type": "execute_result"
    },
    {
     "data": {
      "image/png": "[encoded data removed]",
      "text/plain": [
       "<Figure size 720x432 with 1 Axes>"
      ]
     },
     "metadata": {
      "needs_background": "light"
     },
     "output_type": "display_data"
    }
   ],
   "source": [
    "# Looking into the time series plot of the data\n",
    "\n",
    "plt.figure(figsize=(10,6))\n",
    "plt.plot(data['DO mg'])\n",
    "\n",
    "plt.xlabel('Time [Hours]',fontsize=16, fontweight='bold',fontfamily='serif')\n",
    "plt.ylabel('Dissolved Oxygen [mg]',fontsize=16, fontweight='bold',fontfamily='serif')\n",
    "plt.title('Water Quality Data',fontsize=16, fontweight='bold',fontfamily='serif')"
   ]
  },
  {
   "cell_type": "code",
   "execution_count": 16,
   "id": "3c495b9b",
   "metadata": {},
   "outputs": [
    {
     "data": {
      "text/plain": [
       "array([[  4.7  ,   5.7  ,  88.5  , ...,   7.73 ,  30.46 ,   3.7  ],\n",
       "       [  5.55 ,   5.785,  89.8  , ...,   7.755,  30.42 ,   1.9  ],\n",
       "       [  5.3  ,   5.735,  89.   , ...,   7.755,  30.34 ,   2.75 ],\n",
       "       ...,\n",
       "       [  7.3  ,   7.45 , 112.65 , ...,   7.9  ,  27.525,   4.55 ],\n",
       "       [  4.85 ,   7.335, 111.05 , ...,   7.9  ,  27.51 ,   3.55 ],\n",
       "       [  3.8  ,   7.125, 107.95 , ...,   7.89 ,  27.485,   3.8  ]])"
      ]
     },
     "execution_count": 16,
     "metadata": {},
     "output_type": "execute_result"
    }
   ],
   "source": [
    "dt_arr=np.array(data)\n",
    "dt_arr"
   ]
  },
  {
   "cell_type": "markdown",
   "id": "4e874bb5",
   "metadata": {},
   "source": [
    "# Preprocessing of the data (Normalization) "
   ]
  },
  {
   "cell_type": "code",
   "execution_count": 17,
   "id": "95a9c599",
   "metadata": {},
   "outputs": [
    {
     "name": "stderr",
     "output_type": "stream",
     "text": [
      "C:\\Users\\Abdul Wajed Farhat\\anaconda3\\lib\\site-packages\\scipy\\__init__.py:146: UserWarning: A NumPy version >=1.16.5 and <1.23.0 is required for this version of SciPy (detected version 1.24.2\n",
      "  warnings.warn(f\"A NumPy version >={np_minversion} and <{np_maxversion}\"\n"
     ]
    }
   ],
   "source": [
    "from sklearn.preprocessing import minmax_scale\n",
    "scaler=minmax_scale"
   ]
  },
  {
   "cell_type": "code",
   "execution_count": 18,
   "id": "93e7e90d",
   "metadata": {},
   "outputs": [],
   "source": [
    "for i in range (dt_arr.shape[1]):\n",
    "    dt_arr[:,i]=scaler(dt_arr[:,i])"
   ]
  },
  {
   "cell_type": "markdown",
   "id": "1e1773ea",
   "metadata": {},
   "source": [
    "# Reconstruction of the data for LSTM"
   ]
  },
  {
   "cell_type": "code",
   "execution_count": 19,
   "id": "36ac6751",
   "metadata": {},
   "outputs": [],
   "source": [
    "# For Phase space reconstruction \n",
    "\n",
    "def create_dataset(data,time_window, label):   # time_window : The number of time steps you want the model to look back\n",
    "                                               # label       : The column address of the target value\n",
    "    X,Y=[],[]\n",
    "\n",
    "    for i in range (len(data)-time_window-1) :\n",
    "        \n",
    "        a=data[i:i+time_window,0:data.shape[1]]\n",
    "        X.append(a)\n",
    "        Y.append(data[i+time_window,label])\n",
    "        \n",
    "    return (np.array(X),np.array(Y))"
   ]
  },
  {
   "cell_type": "code",
   "execution_count": 20,
   "id": "4e36744f",
   "metadata": {},
   "outputs": [],
   "source": [
    "# Splitting the data into train and test\n",
    "dt_train, dt_test= dt_arr[0:round(0.75*len(dt_arr))] ,  dt_arr[round(0.75*len(dt_arr)):]                                                                            "
   ]
  },
  {
   "cell_type": "code",
   "execution_count": 21,
   "id": "061b0af9",
   "metadata": {},
   "outputs": [],
   "source": [
    "X_train,Y_train=create_dataset(dt_train, 100,1)\n",
    "X_test, Y_test=create_dataset(dt_test,100,1)"
   ]
  },
  {
   "cell_type": "code",
   "execution_count": 22,
   "id": "3bc5465a",
   "metadata": {},
   "outputs": [
    {
     "data": {
      "text/plain": [
       "((29867, 100, 7), (29867,))"
      ]
     },
     "execution_count": 22,
     "metadata": {},
     "output_type": "execute_result"
    }
   ],
   "source": [
    "X_train.shape,Y_train.shape"
   ]
  },
  {
   "cell_type": "markdown",
   "id": "bdfa7017",
   "metadata": {},
   "source": [
    "# Defining the model"
   ]
  },
  {
   "cell_type": "code",
   "execution_count": 43,
   "id": "7ec227ce",
   "metadata": {},
   "outputs": [],
   "source": [
    "from keras.models import Sequential\n",
    "from keras.layers import LSTM, Dense"
   ]
  },
  {
   "cell_type": "code",
   "execution_count": 44,
   "id": "5baef0ed",
   "metadata": {},
   "outputs": [],
   "source": [
    "model=Sequential()\n",
    "model.add(LSTM(100, activation='relu',input_shape=(X_train.shape[1],X_train.shape[2])))\n",
    "model.add(Dense(1,'linear'))\n",
    "model.compile(optimizer='adam', loss='mean_squared_error')"
   ]
  },
  {
   "cell_type": "code",
   "execution_count": 45,
   "id": "59b0c06f",
   "metadata": {},
   "outputs": [
    {
     "name": "stdout",
     "output_type": "stream",
     "text": [
      "Epoch 1/10\n",
      "934/934 [==============================] - 74s 77ms/step - loss: 0.0054\n",
      "Epoch 2/10\n",
      "934/934 [==============================] - 76s 81ms/step - loss: 0.0017\n",
      "Epoch 3/10\n",
      "934/934 [==============================] - 76s 82ms/step - loss: 0.0015\n",
      "Epoch 4/10\n",
      "934/934 [==============================] - 82s 88ms/step - loss: 0.0015\n",
      "Epoch 5/10\n",
      "934/934 [==============================] - 76s 81ms/step - loss: 0.0015\n",
      "Epoch 6/10\n",
      "934/934 [==============================] - 84s 90ms/step - loss: 0.0015\n",
      "Epoch 7/10\n",
      "934/934 [==============================] - 85s 91ms/step - loss: 0.0014\n",
      "Epoch 8/10\n",
      "934/934 [==============================] - 101s 108ms/step - loss: 0.0014\n",
      "Epoch 9/10\n",
      "934/934 [==============================] - 96s 103ms/step - loss: 0.0014\n",
      "Epoch 10/10\n",
      "934/934 [==============================] - 87s 93ms/step - loss: 0.0014\n"
     ]
    },
    {
     "data": {
      "text/plain": [
       "<keras.callbacks.History at 0x19623e243d0>"
      ]
     },
     "execution_count": 45,
     "metadata": {},
     "output_type": "execute_result"
    }
   ],
   "source": [
    "model.fit(X_train, Y_train, epochs=10)"
   ]
  },
  {
   "cell_type": "code",
   "execution_count": 46,
   "id": "91a06d69",
   "metadata": {},
   "outputs": [
    {
     "name": "stdout",
     "output_type": "stream",
     "text": [
      "310/310 [==============================] - 11s 36ms/step\n"
     ]
    }
   ],
   "source": [
    "Y_pred=model.predict(X_test)"
   ]
  },
  {
   "cell_type": "code",
   "execution_count": 47,
   "id": "30efedc0",
   "metadata": {},
   "outputs": [],
   "source": [
    "from sklearn.metrics import r2_score, mean_squared_error"
   ]
  },
  {
   "cell_type": "code",
   "execution_count": 49,
   "id": "513b9114",
   "metadata": {},
   "outputs": [
    {
     "name": "stdout",
     "output_type": "stream",
     "text": [
      "R-Squared: 0.9603230146408063\n",
      "Mean squared error: 0.0008080962382811547\n"
     ]
    }
   ],
   "source": [
    "print ('R-Squared:',r2_score(Y_test,Y_pred))\n",
    "print ('Mean squared error:', mean_squared_error (Y_pred, Y_test))"
   ]
  },
  {
   "cell_type": "code",
   "execution_count": 50,
   "id": "dd37ed9d",
   "metadata": {
    "scrolled": false
   },
   "outputs": [
    {
     "data": {
      "text/plain": [
       "<matplotlib.collections.PathCollection at 0x196172dafd0>"
      ]
     },
     "execution_count": 50,
     "metadata": {},
     "output_type": "execute_result"
    },
    {
     "data": {
      "image/png": "[encoded data removed]",
      "text/plain": [
       "<Figure size 432x288 with 1 Axes>"
      ]
     },
     "metadata": {
      "needs_background": "light"
     },
     "output_type": "display_data"
    }
   ],
   "source": [
    "import matplotlib.pyplot as plt\n",
    "plt.scatter(Y_pred, Y_test)"
   ]
  },
  {
   "cell_type": "code",
   "execution_count": 52,
   "id": "a5f3e40a",
   "metadata": {
    "scrolled": false
   },
   "outputs": [
    {
     "data": {
      "text/plain": [
       "<matplotlib.legend.Legend at 0x1960e0cf490>"
      ]
     },
     "execution_count": 52,
     "metadata": {},
     "output_type": "execute_result"
    },
    {
     "data": {
      "image/png": "[encoded data removed]",
      "text/plain": [
       "<Figure size 576x432 with 1 Axes>"
      ]
     },
     "metadata": {
      "needs_background": "light"
     },
     "output_type": "display_data"
    }
   ],
   "source": [
    "plt.figure(figsize=(8,6))\n",
    "\n",
    "plt.plot(Y_test)\n",
    "plt.plot(Y_pred)\n",
    "\n",
    "\n",
    "\n",
    "plt.xlabel('Time [Hour]',fontsize=16, fontweight='bold',fontfamily='serif')\n",
    "plt.ylabel('DO [mg]',fontsize=16, fontweight='bold',fontfamily='serif')\n",
    "plt.title('Observed vs Predicted time series plot',fontsize=16, fontweight='bold',fontfamily='serif')\n",
    "plt.legend(['Observed','Predicted'])"
   ]
  },
  {
   "cell_type": "markdown",
   "id": "a13b7620",
   "metadata": {},
   "source": [
    "# Forecasting for one dimensional dataset"
   ]
  },
  {
   "cell_type": "code",
   "execution_count": 58,
   "id": "83ce35a5",
   "metadata": {},
   "outputs": [],
   "source": [
    "dtrain, dtest= dt_arr[0:round(0.75*len(dt_arr)),1] ,  dt_arr[round(0.75*len(dt_arr)):,1]\n",
    "\n",
    "Xtrain,Ytrain=create_dataset(dtrain[:,np.newaxis],100,0)\n",
    "Xtest, Ytest=create_dataset(dtest[:,np.newaxis],100,0)"
   ]
  },
  {
   "cell_type": "code",
   "execution_count": 61,
   "id": "6bf33536",
   "metadata": {},
   "outputs": [
    {
     "data": {
      "text/plain": [
       "((9889, 100, 1), (9889,))"
      ]
     },
     "execution_count": 61,
     "metadata": {},
     "output_type": "execute_result"
    }
   ],
   "source": [
    "Xtest.shape, Ytest.shape"
   ]
  },
  {
   "cell_type": "code",
   "execution_count": 62,
   "id": "c62cd2b2",
   "metadata": {},
   "outputs": [],
   "source": [
    "model1=Sequential()\n",
    "model1.add(LSTM(100, activation='relu',input_shape=(Xtrain.shape[1],Xtrain.shape[2])))\n",
    "model1.add(Dense(1,'linear'))\n",
    "model1.compile(optimizer='adam', loss='mean_squared_error')"
   ]
  },
  {
   "cell_type": "code",
   "execution_count": 63,
   "id": "a4b247b8",
   "metadata": {},
   "outputs": [
    {
     "name": "stdout",
     "output_type": "stream",
     "text": [
      "Epoch 1/10\n",
      "934/934 [==============================] - 86s 90ms/step - loss: 0.1419\n",
      "Epoch 2/10\n",
      "934/934 [==============================] - 83s 89ms/step - loss: 0.0042\n",
      "Epoch 3/10\n",
      "934/934 [==============================] - 95s 102ms/step - loss: 0.0021\n",
      "Epoch 4/10\n",
      "934/934 [==============================] - 92s 98ms/step - loss: 0.0017\n",
      "Epoch 5/10\n",
      "934/934 [==============================] - 88s 94ms/step - loss: 0.0016\n",
      "Epoch 6/10\n",
      "934/934 [==============================] - 85s 91ms/step - loss: 0.0015\n",
      "Epoch 7/10\n",
      "934/934 [==============================] - 83s 89ms/step - loss: 0.0015\n",
      "Epoch 8/10\n",
      "934/934 [==============================] - 86s 92ms/step - loss: 0.0015\n",
      "Epoch 9/10\n",
      "934/934 [==============================] - 88s 95ms/step - loss: 0.0015\n",
      "Epoch 10/10\n",
      "934/934 [==============================] - 94s 100ms/step - loss: 0.0014\n"
     ]
    },
    {
     "data": {
      "text/plain": [
       "<keras.callbacks.History at 0x1960dc38c70>"
      ]
     },
     "execution_count": 63,
     "metadata": {},
     "output_type": "execute_result"
    }
   ],
   "source": [
    "model1.fit(Xtrain, Ytrain, epochs=10)"
   ]
  },
  {
   "cell_type": "code",
   "execution_count": 64,
   "id": "ee6f713b",
   "metadata": {},
   "outputs": [
    {
     "name": "stdout",
     "output_type": "stream",
     "text": [
      "310/310 [==============================] - 10s 30ms/step\n"
     ]
    }
   ],
   "source": [
    "Ypredd=model1.predict(Xtest)"
   ]
  },
  {
   "cell_type": "code",
   "execution_count": 75,
   "id": "912f4a0e",
   "metadata": {},
   "outputs": [
    {
     "name": "stdout",
     "output_type": "stream",
     "text": [
      "R-Squared: 0.958258263854811\n",
      "Mean squared error: 0.0008501487613759857\n"
     ]
    }
   ],
   "source": [
    "\n",
    "print ('R-Squared:',r2_score(Ytest,Ypredd))\n",
    "print ('Mean squared error:', mean_squared_error (Ytest, Ypredd))"
   ]
  },
  {
   "cell_type": "markdown",
   "id": "211a1a05",
   "metadata": {},
   "source": [
    "# Forecasting using attention mechanism"
   ]
  },
  {
   "cell_type": "code",
   "execution_count": 66,
   "id": "6de4865f",
   "metadata": {},
   "outputs": [],
   "source": [
    "import keras\n",
    "from keras import layers\n",
    "import tensorflow as tf\n"
   ]
  },
  {
   "cell_type": "code",
   "execution_count": 67,
   "id": "d74d357d",
   "metadata": {},
   "outputs": [],
   "source": [
    "def lstm_attention_model(input_shape):\n",
    "    inputs = keras.Input(shape=input_shape)\n",
    "    \n",
    "    # LSTM layer\n",
    "    lstm = layers.LSTM(100, return_sequences=True)(inputs)\n",
    "    \n",
    "    # Attention mechanism\n",
    "    attention = layers.Dense(1, activation='tanh')(lstm)\n",
    "    attention = layers.Flatten()(attention)\n",
    "    attention = layers.Activation('softmax')(attention)\n",
    "    attention = layers.RepeatVector(100)(attention)\n",
    "    attention = layers.Permute([2, 1])(attention)\n",
    "    attention = layers.Multiply()([lstm, attention])\n",
    "    attention = layers.Lambda(lambda x: tf.reduce_sum(x, axis=1))(attention)\n",
    "    \n",
    "    # Output layer\n",
    "    outputs = layers.Dense(1)(attention)\n",
    "    \n",
    "    # Compile the model\n",
    "    model = keras.Model(inputs=inputs, outputs=outputs)\n",
    "    model.compile(loss='mse', optimizer='adam')\n",
    "    \n",
    "    return model"
   ]
  },
  {
   "cell_type": "code",
   "execution_count": 68,
   "id": "7f9d20ac",
   "metadata": {},
   "outputs": [],
   "source": [
    "model2=lstm_attention_model(input_shape=(100,1))"
   ]
  },
  {
   "cell_type": "code",
   "execution_count": 72,
   "id": "c5711f93",
   "metadata": {},
   "outputs": [
    {
     "name": "stdout",
     "output_type": "stream",
     "text": [
      "Epoch 1/20\n",
      "934/934 [==============================] - 84s 90ms/step - loss: 0.0029\n",
      "Epoch 2/20\n",
      "934/934 [==============================] - 106s 114ms/step - loss: 0.0025\n",
      "Epoch 3/20\n",
      "934/934 [==============================] - 119s 128ms/step - loss: 0.0023\n",
      "Epoch 4/20\n",
      "934/934 [==============================] - 129s 139ms/step - loss: 0.0021\n",
      "Epoch 5/20\n",
      "934/934 [==============================] - 113s 121ms/step - loss: 0.0020\n",
      "Epoch 6/20\n",
      "934/934 [==============================] - 113s 121ms/step - loss: 0.0018\n",
      "Epoch 7/20\n",
      "934/934 [==============================] - 120s 128ms/step - loss: 0.0018\n",
      "Epoch 8/20\n",
      "934/934 [==============================] - 120s 129ms/step - loss: 0.0017\n",
      "Epoch 9/20\n",
      "934/934 [==============================] - 117s 125ms/step - loss: 0.0016\n",
      "Epoch 10/20\n",
      "934/934 [==============================] - 119s 127ms/step - loss: 0.0015\n",
      "Epoch 11/20\n",
      "934/934 [==============================] - 108s 116ms/step - loss: 0.0014\n",
      "Epoch 12/20\n",
      "934/934 [==============================] - 108s 115ms/step - loss: 0.0014\n",
      "Epoch 13/20\n",
      "934/934 [==============================] - 108s 116ms/step - loss: 0.0014\n",
      "Epoch 14/20\n",
      "934/934 [==============================] - 111s 119ms/step - loss: 0.0013\n",
      "Epoch 15/20\n",
      "934/934 [==============================] - 109s 117ms/step - loss: 0.0013\n",
      "Epoch 16/20\n",
      "934/934 [==============================] - 120s 128ms/step - loss: 0.0013\n",
      "Epoch 17/20\n",
      "934/934 [==============================] - 103s 110ms/step - loss: 0.0013\n",
      "Epoch 18/20\n",
      "934/934 [==============================] - 96s 103ms/step - loss: 0.0015\n",
      "Epoch 19/20\n",
      "934/934 [==============================] - 97s 104ms/step - loss: 0.0014\n",
      "Epoch 20/20\n",
      "934/934 [==============================] - 103s 111ms/step - loss: 0.0012\n"
     ]
    },
    {
     "data": {
      "text/plain": [
       "<keras.callbacks.History at 0x19610105af0>"
      ]
     },
     "execution_count": 72,
     "metadata": {},
     "output_type": "execute_result"
    }
   ],
   "source": [
    "model2.fit(Xtrain, Ytrain, epochs=20)"
   ]
  },
  {
   "cell_type": "code",
   "execution_count": 73,
   "id": "c73905b6",
   "metadata": {},
   "outputs": [
    {
     "name": "stdout",
     "output_type": "stream",
     "text": [
      "310/310 [==============================] - 11s 35ms/step\n"
     ]
    }
   ],
   "source": [
    "Ypred=model2.predict(Xtest)"
   ]
  },
  {
   "cell_type": "code",
   "execution_count": 74,
   "id": "9fc511ec",
   "metadata": {},
   "outputs": [
    {
     "data": {
      "text/plain": [
       "0.9657509440589186"
      ]
     },
     "execution_count": 74,
     "metadata": {},
     "output_type": "execute_result"
    }
   ],
   "source": [
    "r2_score(Ytest,Ypred)"
   ]
  },
  {
   "cell_type": "code",
   "execution_count": null,
   "id": "bb60ce6b",
   "metadata": {},
   "outputs": [],
   "source": []
  }
 ],
 "metadata": {
  "kernelspec": {
   "display_name": "Python 3 (ipykernel)",
   "language": "python",
   "name": "python3"
  },
  "language_info": {
   "codemirror_mode": {
    "name": "ipython",
    "version": 3
   },
   "file_extension": ".py",
   "mimetype": "text/x-python",
   "name": "python",
   "nbconvert_exporter": "python",
   "pygments_lexer": "ipython3",
   "version": "3.9.7"
  }
 },
 "nbformat": 4,
 "nbformat_minor": 5
}
